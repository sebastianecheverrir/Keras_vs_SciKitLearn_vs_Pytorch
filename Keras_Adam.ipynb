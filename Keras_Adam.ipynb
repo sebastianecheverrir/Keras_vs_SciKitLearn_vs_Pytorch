{
 "cells": [
  {
   "cell_type": "code",
   "execution_count": 1,
   "metadata": {},
   "outputs": [],
   "source": [
    "from numpy.random import seed\n",
    "import numpy as np\n",
    "seed(1)\n",
    "from tensorflow import set_random_seed\n",
    "set_random_seed(2)\n",
    "\n",
    "import tensorflow as tf\n",
    "# from tensorflow.python.keras.optimizers import Fire\n",
    "from tensorflow.python.keras.optimizers import Adam\n",
    "from tensorflow.python.keras import backend as K\n",
    "from tensorflow.python.keras import optimizers\n",
    "\n",
    "from sklearn import preprocessing\n",
    "from sklearn.neural_network import MLPClassifier\n",
    "from sklearn.neural_network import MLPRegressor\n",
    "from sklearn.metrics import log_loss\n",
    "\n",
    "import torch\n",
    "import torch.nn as nn\n",
    "import torch.nn.functional as F\n",
    "import torch.utils.data\n",
    "from torch.autograd import Variable\n",
    "\n",
    "\n",
    "import matplotlib.pyplot as plt\n",
    "%matplotlib inline"
   ]
  },
  {
   "cell_type": "markdown",
   "metadata": {},
   "source": [
    "### CrossEntropyLoss\n",
    "The input comes from a softmax\n",
    "\n",
    "        output /= tf.reduce_sum(output,\n",
    "                                reduction_indices=len(output.get_shape()) - 1,\n",
    "                                keep_dims=True)\n",
    "        # manual computation of crossentropy\n",
    "        epsilon = _to_tensor(_EPSILON, output.dtype.base_dtype)\n",
    "        output = tf.clip_by_value(output, epsilon, 1. - epsilon)\n",
    "        return - tf.reduce_sum(target * tf.log(output),\n",
    "                               reduction_indices=len(output.get_shape()) - 1)\n",
    "\n",
    "\n",
    "### Softmax\n",
    "softmax = tf.exp(logits) / tf.reduce_sum(tf.exp(logits), axis)\n"
   ]
  },
  {
   "cell_type": "markdown",
   "metadata": {},
   "source": [
    "## Preparing the input data\n"
   ]
  },
  {
   "cell_type": "code",
   "execution_count": 2,
   "metadata": {},
   "outputs": [],
   "source": [
    "#Preparing the input data\n",
    "\n",
    "#loading the MNIST dataset\n",
    "mnist = tf.keras.datasets.mnist\n",
    "\n",
    "#Separating into train and test (60000 train, 10000 test)\n",
    "(x_train, y_train0),(x_test, y_test0) = mnist.load_data()\n",
    "x_train, x_test = x_train / 255.0, x_test / 255.0\n",
    "\n",
    "#flattening the images (from 28x28 to 784)\n",
    "x_train = x_train.reshape(60000, 784)\n",
    "x_test = x_test.reshape(10000, 784)\n",
    "\n",
    "#converting the otputs (labels) into one hot vectors\n",
    "lb = preprocessing.LabelBinarizer()\n",
    "lb.fit(np.array([0,1,2,3,4,5,6,7,8,9]))\n",
    "y_train = lb.transform(y_train0)\n",
    "y_test = lb.transform(y_test0)"
   ]
  },
  {
   "cell_type": "markdown",
   "metadata": {},
   "source": [
    "## Defining the input parameters\n"
   ]
  },
  {
   "cell_type": "code",
   "execution_count": 3,
   "metadata": {},
   "outputs": [],
   "source": [
    "#Defining the input parameters\n",
    "BatchSize         = 6000\n",
    "NeuronsLayer1     = 100\n",
    "NeuronsLayer2     = 100\n",
    "Epochs            = 100"
   ]
  },
  {
   "cell_type": "markdown",
   "metadata": {},
   "source": [
    "## Model in tensorflow/Keras\n"
   ]
  },
  {
   "cell_type": "code",
   "execution_count": 4,
   "metadata": {},
   "outputs": [
    {
     "name": "stdout",
     "output_type": "stream",
     "text": [
      "<tensorflow.python.keras.engine.sequential.Sequential object at 0x0000029ECC6827F0>\n"
     ]
    }
   ],
   "source": [
    "# Defining the net\n",
    "\n",
    "model = tf.keras.models.Sequential([\n",
    "  tf.keras.layers.Dense(NeuronsLayer1,\n",
    "                        activation=tf.nn.relu),\n",
    "  tf.keras.layers.Dense(NeuronsLayer2, \n",
    "                        activation=tf.nn.relu),\n",
    "  #  tf.keras.layers.Dropout(0.2),\n",
    "  tf.keras.layers.Dense(10, \n",
    "                        activation=tf.nn.softmax)\n",
    "                                   ])\n",
    "print(model)"
   ]
  },
  {
   "cell_type": "code",
   "execution_count": 5,
   "metadata": {},
   "outputs": [],
   "source": [
    "# Construct our model, # Construct our loss function and an Optimizer. \n",
    "\n",
    "loss = tf.keras.backend.categorical_crossentropy\n",
    "optimizer = optimizers.Adam()\n",
    "\n",
    "model.compile(optimizer= optimizer,\n",
    "              loss=loss ) #'categorical_crossentropy')"
   ]
  },
  {
   "cell_type": "code",
   "execution_count": 6,
   "metadata": {},
   "outputs": [
    {
     "name": "stdout",
     "output_type": "stream",
     "text": [
      "Epoch 1/100\n",
      "60000/60000 [==============================] - 3s 45us/step - loss: 1.9558\n",
      "Epoch 2/100\n",
      "60000/60000 [==============================] - 2s 32us/step - loss: 1.0886\n",
      "Epoch 3/100\n",
      "60000/60000 [==============================] - 2s 27us/step - loss: 0.5647\n",
      "Epoch 4/100\n",
      "60000/60000 [==============================] - 2s 27us/step - loss: 0.3966\n",
      "Epoch 5/100\n",
      "60000/60000 [==============================] - 2s 26us/step - loss: 0.3321\n",
      "Epoch 6/100\n",
      "60000/60000 [==============================] - 2s 30us/step - loss: 0.2940\n",
      "Epoch 7/100\n",
      "60000/60000 [==============================] - 2s 29us/step - loss: 0.2681\n",
      "Epoch 8/100\n",
      "60000/60000 [==============================] - 2s 29us/step - loss: 0.2479\n",
      "Epoch 9/100\n",
      "60000/60000 [==============================] - 2s 30us/step - loss: 0.2318\n",
      "Epoch 10/100\n",
      "60000/60000 [==============================] - 2s 28us/step - loss: 0.2173\n",
      "Epoch 11/100\n",
      "60000/60000 [==============================] - 2s 34us/step - loss: 0.2053\n",
      "Epoch 12/100\n",
      "60000/60000 [==============================] - 2s 32us/step - loss: 0.1946\n",
      "Epoch 13/100\n",
      "60000/60000 [==============================] - 2s 32us/step - loss: 0.1847\n",
      "Epoch 14/100\n",
      "60000/60000 [==============================] - 2s 37us/step - loss: 0.1756\n",
      "Epoch 15/100\n",
      "60000/60000 [==============================] - 2s 28us/step - loss: 0.1674\n",
      "Epoch 16/100\n",
      "60000/60000 [==============================] - 2s 30us/step - loss: 0.1600\n",
      "Epoch 17/100\n",
      "60000/60000 [==============================] - 2s 29us/step - loss: 0.1529\n",
      "Epoch 18/100\n",
      "60000/60000 [==============================] - 2s 29us/step - loss: 0.1464\n",
      "Epoch 19/100\n",
      "60000/60000 [==============================] - 2s 34us/step - loss: 0.1398\n",
      "Epoch 20/100\n",
      "60000/60000 [==============================] - 2s 32us/step - loss: 0.1340\n",
      "Epoch 21/100\n",
      "60000/60000 [==============================] - 2s 35us/step - loss: 0.1282\n",
      "Epoch 22/100\n",
      "60000/60000 [==============================] - 2s 34us/step - loss: 0.1228\n",
      "Epoch 23/100\n",
      "60000/60000 [==============================] - 2s 31us/step - loss: 0.1181\n",
      "Epoch 24/100\n",
      "60000/60000 [==============================] - 2s 30us/step - loss: 0.1136\n",
      "Epoch 25/100\n",
      "60000/60000 [==============================] - 2s 28us/step - loss: 0.1085\n",
      "Epoch 26/100\n",
      "60000/60000 [==============================] - 2s 28us/step - loss: 0.1045\n",
      "Epoch 27/100\n",
      "60000/60000 [==============================] - 2s 28us/step - loss: 0.1003\n",
      "Epoch 28/100\n",
      "60000/60000 [==============================] - 2s 29us/step - loss: 0.0962\n",
      "Epoch 29/100\n",
      "60000/60000 [==============================] - 2s 28us/step - loss: 0.0931\n",
      "Epoch 30/100\n",
      "60000/60000 [==============================] - 2s 27us/step - loss: 0.0897\n",
      "Epoch 31/100\n",
      "60000/60000 [==============================] - 2s 27us/step - loss: 0.0861\n",
      "Epoch 32/100\n",
      "60000/60000 [==============================] - 2s 28us/step - loss: 0.0830\n",
      "Epoch 33/100\n",
      "60000/60000 [==============================] - 2s 31us/step - loss: 0.0807\n",
      "Epoch 34/100\n",
      "60000/60000 [==============================] - 2s 29us/step - loss: 0.0774\n",
      "Epoch 35/100\n",
      "60000/60000 [==============================] - 2s 29us/step - loss: 0.0745\n",
      "Epoch 36/100\n",
      "60000/60000 [==============================] - 2s 32us/step - loss: 0.0719\n",
      "Epoch 37/100\n",
      "60000/60000 [==============================] - 2s 31us/step - loss: 0.0702\n",
      "Epoch 38/100\n",
      "60000/60000 [==============================] - 2s 33us/step - loss: 0.0675\n",
      "Epoch 39/100\n",
      "60000/60000 [==============================] - 2s 34us/step - loss: 0.0658\n",
      "Epoch 40/100\n",
      "60000/60000 [==============================] - 2s 35us/step - loss: 0.0636\n",
      "Epoch 41/100\n",
      "60000/60000 [==============================] - 2s 29us/step - loss: 0.0621\n",
      "Epoch 42/100\n",
      "60000/60000 [==============================] - 2s 30us/step - loss: 0.0600\n",
      "Epoch 43/100\n",
      "60000/60000 [==============================] - 2s 29us/step - loss: 0.0577\n",
      "Epoch 44/100\n",
      "60000/60000 [==============================] - 2s 27us/step - loss: 0.0559\n",
      "Epoch 45/100\n",
      "60000/60000 [==============================] - 2s 27us/step - loss: 0.0540\n",
      "Epoch 46/100\n",
      "60000/60000 [==============================] - 2s 27us/step - loss: 0.0528\n",
      "Epoch 47/100\n",
      "60000/60000 [==============================] - 2s 27us/step - loss: 0.0515\n",
      "Epoch 48/100\n",
      "60000/60000 [==============================] - 2s 27us/step - loss: 0.0498\n",
      "Epoch 49/100\n",
      "60000/60000 [==============================] - 2s 30us/step - loss: 0.0481\n",
      "Epoch 50/100\n",
      "60000/60000 [==============================] - 2s 35us/step - loss: 0.0473\n",
      "Epoch 51/100\n",
      "60000/60000 [==============================] - 2s 28us/step - loss: 0.0456\n",
      "Epoch 52/100\n",
      "60000/60000 [==============================] - 2s 32us/step - loss: 0.0445\n",
      "Epoch 53/100\n",
      "60000/60000 [==============================] - 2s 34us/step - loss: 0.0430\n",
      "Epoch 54/100\n",
      "60000/60000 [==============================] - 2s 31us/step - loss: 0.0420\n",
      "Epoch 55/100\n",
      "60000/60000 [==============================] - 2s 36us/step - loss: 0.0407\n",
      "Epoch 56/100\n",
      "60000/60000 [==============================] - 2s 38us/step - loss: 0.0395\n",
      "Epoch 57/100\n",
      "60000/60000 [==============================] - 2s 34us/step - loss: 0.0387\n",
      "Epoch 58/100\n",
      "60000/60000 [==============================] - 2s 33us/step - loss: 0.0378\n",
      "Epoch 59/100\n",
      "60000/60000 [==============================] - 2s 32us/step - loss: 0.0362\n",
      "Epoch 60/100\n",
      "60000/60000 [==============================] - 2s 35us/step - loss: 0.0353\n",
      "Epoch 61/100\n",
      "60000/60000 [==============================] - 2s 40us/step - loss: 0.0346\n",
      "Epoch 62/100\n",
      "60000/60000 [==============================] - 2s 36us/step - loss: 0.0337\n",
      "Epoch 63/100\n",
      "60000/60000 [==============================] - 2s 41us/step - loss: 0.0326\n",
      "Epoch 64/100\n",
      "60000/60000 [==============================] - 3s 42us/step - loss: 0.0318\n",
      "Epoch 65/100\n",
      "60000/60000 [==============================] - 2s 35us/step - loss: 0.0307\n",
      "Epoch 66/100\n",
      "60000/60000 [==============================] - 2s 37us/step - loss: 0.0298\n",
      "Epoch 67/100\n",
      "60000/60000 [==============================] - 2s 32us/step - loss: 0.0295\n",
      "Epoch 68/100\n",
      "60000/60000 [==============================] - 2s 34us/step - loss: 0.0285\n",
      "Epoch 69/100\n",
      "60000/60000 [==============================] - 2s 35us/step - loss: 0.0278\n",
      "Epoch 70/100\n",
      "60000/60000 [==============================] - 2s 35us/step - loss: 0.0273\n",
      "Epoch 71/100\n",
      "60000/60000 [==============================] - 2s 33us/step - loss: 0.0263\n",
      "Epoch 72/100\n",
      "60000/60000 [==============================] - 2s 33us/step - loss: 0.0254\n",
      "Epoch 73/100\n",
      "60000/60000 [==============================] - 2s 33us/step - loss: 0.0247\n",
      "Epoch 74/100\n",
      "60000/60000 [==============================] - 2s 34us/step - loss: 0.0242\n",
      "Epoch 75/100\n",
      "60000/60000 [==============================] - 2s 33us/step - loss: 0.0236\n",
      "Epoch 76/100\n",
      "60000/60000 [==============================] - 2s 34us/step - loss: 0.0228\n",
      "Epoch 77/100\n",
      "60000/60000 [==============================] - 2s 34us/step - loss: 0.0223\n",
      "Epoch 78/100\n",
      "60000/60000 [==============================] - 2s 35us/step - loss: 0.0219\n",
      "Epoch 79/100\n",
      "60000/60000 [==============================] - 2s 33us/step - loss: 0.0213\n",
      "Epoch 80/100\n",
      "60000/60000 [==============================] - 2s 35us/step - loss: 0.0206\n",
      "Epoch 81/100\n",
      "60000/60000 [==============================] - 2s 31us/step - loss: 0.0200\n",
      "Epoch 82/100\n",
      "60000/60000 [==============================] - 2s 32us/step - loss: 0.0195\n",
      "Epoch 83/100\n",
      "60000/60000 [==============================] - 2s 31us/step - loss: 0.0193\n",
      "Epoch 84/100\n",
      "60000/60000 [==============================] - 2s 34us/step - loss: 0.0186\n",
      "Epoch 85/100\n",
      "60000/60000 [==============================] - 2s 31us/step - loss: 0.0182\n",
      "Epoch 86/100\n",
      "60000/60000 [==============================] - 2s 31us/step - loss: 0.0176\n",
      "Epoch 87/100\n",
      "60000/60000 [==============================] - 2s 33us/step - loss: 0.0172\n",
      "Epoch 88/100\n",
      "60000/60000 [==============================] - 2s 33us/step - loss: 0.0169\n",
      "Epoch 89/100\n",
      "60000/60000 [==============================] - 2s 32us/step - loss: 0.0166\n",
      "Epoch 90/100\n",
      "60000/60000 [==============================] - 2s 32us/step - loss: 0.0160\n",
      "Epoch 91/100\n",
      "60000/60000 [==============================] - 2s 33us/step - loss: 0.0156\n",
      "Epoch 92/100\n",
      "60000/60000 [==============================] - 2s 30us/step - loss: 0.0152\n",
      "Epoch 93/100\n",
      "60000/60000 [==============================] - 2s 34us/step - loss: 0.0151\n",
      "Epoch 94/100\n",
      "60000/60000 [==============================] - 2s 36us/step - loss: 0.0146\n",
      "Epoch 95/100\n",
      "60000/60000 [==============================] - 2s 33us/step - loss: 0.0141\n",
      "Epoch 96/100\n",
      "60000/60000 [==============================] - 2s 31us/step - loss: 0.0139\n",
      "Epoch 97/100\n",
      "60000/60000 [==============================] - 2s 32us/step - loss: 0.0137\n",
      "Epoch 98/100\n",
      "60000/60000 [==============================] - 2s 33us/step - loss: 0.0131\n",
      "Epoch 99/100\n",
      "60000/60000 [==============================] - 2s 32us/step - loss: 0.0129\n",
      "Epoch 100/100\n",
      "60000/60000 [==============================] - 2s 33us/step - loss: 0.0124\n"
     ]
    }
   ],
   "source": [
    "#train the network\n",
    "\n",
    "HistoryKeras = model.fit(  x_train, y_train, \n",
    "            epochs=Epochs,\n",
    "            batch_size=BatchSize)\n"
   ]
  },
  {
   "cell_type": "code",
   "execution_count": 7,
   "metadata": {},
   "outputs": [
    {
     "data": {
      "text/plain": [
       "0.0117205965601813"
      ]
     },
     "execution_count": 7,
     "metadata": {},
     "output_type": "execute_result"
    }
   ],
   "source": [
    "#Predicting\n",
    "\n",
    "#model.evaluate(x_test, y_test)\n",
    "y_train_hat_keras = model.predict_proba(x_train)\n",
    "\n",
    "log_loss(y_train, y_train_hat_keras)"
   ]
  },
  {
   "cell_type": "code",
   "execution_count": 8,
   "metadata": {},
   "outputs": [
    {
     "name": "stdout",
     "output_type": "stream",
     "text": [
      "[0 0 0 0 0 1 0 0 0 0]\n",
      "[1 0 0 0 0 0 0 0 0 0]\n"
     ]
    }
   ],
   "source": [
    "print(y_train[0])\n",
    "print(y_train[1])"
   ]
  },
  {
   "cell_type": "code",
   "execution_count": 9,
   "metadata": {},
   "outputs": [
    {
     "name": "stdout",
     "output_type": "stream",
     "text": [
      "[3.9198899e-14 8.0459966e-13 1.3278649e-11 7.2586811e-03 3.9743648e-22\n",
      " 9.9274135e-01 8.8209048e-16 2.1307798e-11 6.5751636e-12 8.5500045e-12]\n",
      "[9.9999833e-01 4.2240376e-13 1.7022567e-06 2.8614241e-11 1.3861602e-13\n",
      " 2.6523841e-14 3.2699721e-09 2.7456237e-11 3.1001646e-14 4.3051358e-11]\n"
     ]
    }
   ],
   "source": [
    "print(y_train_hat_keras[0])\n",
    "print(y_train_hat_keras[1])"
   ]
  },
  {
   "cell_type": "code",
   "execution_count": 10,
   "metadata": {},
   "outputs": [
    {
     "name": "stdout",
     "output_type": "stream",
     "text": [
      "_________________________________________________________________\n",
      "Layer (type)                 Output Shape              Param #   \n",
      "=================================================================\n",
      "dense (Dense)                multiple                  78500     \n",
      "_________________________________________________________________\n",
      "dense_1 (Dense)              multiple                  10100     \n",
      "_________________________________________________________________\n",
      "dense_2 (Dense)              multiple                  1010      \n",
      "=================================================================\n",
      "Total params: 89,610\n",
      "Trainable params: 89,610\n",
      "Non-trainable params: 0\n",
      "_________________________________________________________________\n"
     ]
    }
   ],
   "source": [
    "#Show aprameters of the network\n",
    "\n",
    "model.summary()\n"
   ]
  },
  {
   "cell_type": "code",
   "execution_count": null,
   "metadata": {},
   "outputs": [],
   "source": []
  },
  {
   "cell_type": "code",
   "execution_count": null,
   "metadata": {},
   "outputs": [],
   "source": []
  },
  {
   "cell_type": "code",
   "execution_count": null,
   "metadata": {},
   "outputs": [],
   "source": []
  },
  {
   "cell_type": "code",
   "execution_count": null,
   "metadata": {},
   "outputs": [],
   "source": []
  },
  {
   "cell_type": "code",
   "execution_count": null,
   "metadata": {},
   "outputs": [],
   "source": []
  },
  {
   "cell_type": "code",
   "execution_count": null,
   "metadata": {},
   "outputs": [],
   "source": []
  }
 ],
 "metadata": {
  "kernelspec": {
   "display_name": "Python 3",
   "language": "python",
   "name": "python3"
  },
  "language_info": {
   "codemirror_mode": {
    "name": "ipython",
    "version": 3
   },
   "file_extension": ".py",
   "mimetype": "text/x-python",
   "name": "python",
   "nbconvert_exporter": "python",
   "pygments_lexer": "ipython3",
   "version": "3.6.8"
  }
 },
 "nbformat": 4,
 "nbformat_minor": 2
}
