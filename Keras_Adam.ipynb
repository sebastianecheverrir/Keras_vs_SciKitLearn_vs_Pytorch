{
 "cells": [
  {
   "cell_type": "code",
   "execution_count": 1,
   "metadata": {},
   "outputs": [],
   "source": [
    "from numpy.random import seed\n",
    "import numpy as np\n",
    "seed(1)\n",
    "from tensorflow import set_random_seed\n",
    "set_random_seed(2)\n",
    "\n",
    "import tensorflow as tf\n",
    "# from tensorflow.python.keras.optimizers import Fire\n",
    "from tensorflow.python.keras.optimizers import Adam\n",
    "from tensorflow.python.keras import backend as K\n",
    "from tensorflow.python.keras import optimizers\n",
    "\n",
    "from sklearn import preprocessing\n",
    "from sklearn.neural_network import MLPClassifier\n",
    "from sklearn.neural_network import MLPRegressor\n",
    "from sklearn.metrics import log_loss\n",
    "\n",
    "import torch\n",
    "import torch.nn as nn\n",
    "import torch.nn.functional as F\n",
    "import torch.utils.data\n",
    "from torch.autograd import Variable\n",
    "\n",
    "\n",
    "import matplotlib.pyplot as plt\n",
    "%matplotlib inline"
   ]
  },
  {
   "cell_type": "markdown",
   "metadata": {},
   "source": [
    "## Preparing the input data\n"
   ]
  },
  {
   "cell_type": "code",
   "execution_count": 2,
   "metadata": {},
   "outputs": [],
   "source": [
    "#Preparing the input data\n",
    "\n",
    "#loading the MNIST dataset\n",
    "mnist = tf.keras.datasets.mnist\n",
    "\n",
    "#Separating into train and test (60000 train, 10000 test)\n",
    "(x_train, y_train0),(x_test, y_test0) = mnist.load_data()\n",
    "x_train, x_test = x_train / 255.0, x_test / 255.0\n",
    "\n",
    "#flattening the images (from 28x28 to 784)\n",
    "x_train = x_train.reshape(60000, 784)\n",
    "x_test = x_test.reshape(10000, 784)\n",
    "\n",
    "#converting the otputs (labels) into one hot vectors\n",
    "lb = preprocessing.LabelBinarizer()\n",
    "lb.fit(np.array([0,1,2,3,4,5,6,7,8,9]))\n",
    "y_train = lb.transform(y_train0)\n",
    "y_test = lb.transform(y_test0)"
   ]
  },
  {
   "cell_type": "markdown",
   "metadata": {},
   "source": [
    "## Defining the input parameters\n"
   ]
  },
  {
   "cell_type": "code",
   "execution_count": 3,
   "metadata": {},
   "outputs": [],
   "source": [
    "#Defining the input parameters\n",
    "BatchSize         = 500\n",
    "NeuronsLayer1     = 100\n",
    "NeuronsLayer2     = 100\n",
    "Epochs            = 100"
   ]
  },
  {
   "cell_type": "markdown",
   "metadata": {},
   "source": [
    "## Model in tensorflow/Keras\n"
   ]
  },
  {
   "cell_type": "code",
   "execution_count": 4,
   "metadata": {},
   "outputs": [
    {
     "name": "stdout",
     "output_type": "stream",
     "text": [
      "<tensorflow.python.keras.engine.sequential.Sequential object at 0x000001C9361622E8>\n"
     ]
    }
   ],
   "source": [
    "# Defining the net\n",
    "\n",
    "model = tf.keras.models.Sequential([\n",
    "  tf.keras.layers.Dense(NeuronsLayer1,\n",
    "                        activation=tf.nn.relu),\n",
    "  tf.keras.layers.Dense(NeuronsLayer2, \n",
    "                        activation=tf.nn.relu),\n",
    "  #  tf.keras.layers.Dropout(0.2),\n",
    "  tf.keras.layers.Dense(10, \n",
    "                        activation=tf.nn.softmax)\n",
    "                                   ])\n",
    "print(model)"
   ]
  },
  {
   "cell_type": "code",
   "execution_count": 5,
   "metadata": {},
   "outputs": [],
   "source": [
    "# Construct our model, # Construct our loss function and an Optimizer. \n",
    "\n",
    "loss = tf.keras.backend.categorical_crossentropy\n",
    "optimizer = optimizers.Adam()\n",
    "\n",
    "model.compile(optimizer= optimizer,\n",
    "              loss=loss ) #'categorical_crossentropy')"
   ]
  },
  {
   "cell_type": "code",
   "execution_count": 6,
   "metadata": {},
   "outputs": [
    {
     "name": "stdout",
     "output_type": "stream",
     "text": [
      "Epoch 1/100\n",
      "60000/60000 [==============================] - 2s 36us/step - loss: 0.5677\n",
      "Epoch 2/100\n",
      "60000/60000 [==============================] - 2s 30us/step - loss: 0.2097\n",
      "Epoch 3/100\n",
      "60000/60000 [==============================] - 2s 32us/step - loss: 0.1559\n",
      "Epoch 4/100\n",
      "60000/60000 [==============================] - 2s 36us/step - loss: 0.1241\n",
      "Epoch 5/100\n",
      "60000/60000 [==============================] - 2s 31us/step - loss: 0.1023\n",
      "Epoch 6/100\n",
      "60000/60000 [==============================] - 2s 29us/step - loss: 0.0855\n",
      "Epoch 7/100\n",
      "60000/60000 [==============================] - 2s 31us/step - loss: 0.0742\n",
      "Epoch 8/100\n",
      "60000/60000 [==============================] - 2s 30us/step - loss: 0.0654\n",
      "Epoch 9/100\n",
      "60000/60000 [==============================] - 2s 30us/step - loss: 0.0577\n",
      "Epoch 10/100\n",
      "60000/60000 [==============================] - 2s 28us/step - loss: 0.0505\n",
      "Epoch 11/100\n",
      "60000/60000 [==============================] - 2s 28us/step - loss: 0.0455\n",
      "Epoch 12/100\n",
      "60000/60000 [==============================] - 2s 28us/step - loss: 0.0396\n",
      "Epoch 13/100\n",
      "60000/60000 [==============================] - 2s 28us/step - loss: 0.0352\n",
      "Epoch 14/100\n",
      "60000/60000 [==============================] - 2s 28us/step - loss: 0.0311\n",
      "Epoch 15/100\n",
      "60000/60000 [==============================] - 2s 34us/step - loss: 0.0287\n",
      "Epoch 16/100\n",
      "60000/60000 [==============================] - 2s 28us/step - loss: 0.0262\n",
      "Epoch 17/100\n",
      "60000/60000 [==============================] - 2s 28us/step - loss: 0.0232\n",
      "Epoch 18/100\n",
      "60000/60000 [==============================] - 2s 31us/step - loss: 0.0208\n",
      "Epoch 19/100\n",
      "60000/60000 [==============================] - 2s 30us/step - loss: 0.0180\n",
      "Epoch 20/100\n",
      "60000/60000 [==============================] - 2s 29us/step - loss: 0.0149\n",
      "Epoch 21/100\n",
      "60000/60000 [==============================] - 2s 30us/step - loss: 0.0133\n",
      "Epoch 22/100\n",
      "60000/60000 [==============================] - 2s 29us/step - loss: 0.0110\n",
      "Epoch 23/100\n",
      "60000/60000 [==============================] - 2s 32us/step - loss: 0.0106\n",
      "Epoch 24/100\n",
      "60000/60000 [==============================] - 2s 33us/step - loss: 0.0096\n",
      "Epoch 25/100\n",
      "60000/60000 [==============================] - 2s 32us/step - loss: 0.0087\n",
      "Epoch 26/100\n",
      "60000/60000 [==============================] - 2s 31us/step - loss: 0.0067\n",
      "Epoch 27/100\n",
      "60000/60000 [==============================] - 2s 32us/step - loss: 0.0056\n",
      "Epoch 28/100\n",
      "60000/60000 [==============================] - 2s 37us/step - loss: 0.0051\n",
      "Epoch 29/100\n",
      "60000/60000 [==============================] - 2s 31us/step - loss: 0.0045\n",
      "Epoch 30/100\n",
      "60000/60000 [==============================] - 2s 32us/step - loss: 0.0042\n",
      "Epoch 31/100\n",
      "60000/60000 [==============================] - 2s 32us/step - loss: 0.0037\n",
      "Epoch 32/100\n",
      "60000/60000 [==============================] - 2s 31us/step - loss: 0.0068\n",
      "Epoch 33/100\n",
      "60000/60000 [==============================] - 2s 31us/step - loss: 0.0067\n",
      "Epoch 34/100\n",
      "60000/60000 [==============================] - 2s 33us/step - loss: 0.0044\n",
      "Epoch 35/100\n",
      "60000/60000 [==============================] - 2s 33us/step - loss: 0.0034\n",
      "Epoch 36/100\n",
      "60000/60000 [==============================] - 2s 30us/step - loss: 0.0020\n",
      "Epoch 37/100\n",
      "60000/60000 [==============================] - 2s 36us/step - loss: 0.0013\n",
      "Epoch 38/100\n",
      "60000/60000 [==============================] - 2s 29us/step - loss: 0.0012\n",
      "Epoch 39/100\n",
      "60000/60000 [==============================] - 2s 29us/step - loss: 9.6380e-04\n",
      "Epoch 40/100\n",
      "60000/60000 [==============================] - 2s 31us/step - loss: 8.4092e-04\n",
      "Epoch 41/100\n",
      "60000/60000 [==============================] - 2s 31us/step - loss: 7.4833e-04\n",
      "Epoch 42/100\n",
      "60000/60000 [==============================] - 2s 30us/step - loss: 6.8888e-04\n",
      "Epoch 43/100\n",
      "60000/60000 [==============================] - 2s 35us/step - loss: 6.4980e-04\n",
      "Epoch 44/100\n",
      "60000/60000 [==============================] - 2s 32us/step - loss: 5.9640e-04\n",
      "Epoch 45/100\n",
      "60000/60000 [==============================] - 2s 32us/step - loss: 9.8922e-04\n",
      "Epoch 46/100\n",
      "60000/60000 [==============================] - 2s 32us/step - loss: 0.0269\n",
      "Epoch 47/100\n",
      "60000/60000 [==============================] - 2s 31us/step - loss: 0.0176\n",
      "Epoch 48/100\n",
      "60000/60000 [==============================] - 2s 32us/step - loss: 0.0066\n",
      "Epoch 49/100\n",
      "60000/60000 [==============================] - 2s 32us/step - loss: 0.0022\n",
      "Epoch 50/100\n",
      "60000/60000 [==============================] - 2s 32us/step - loss: 8.6846e-04\n",
      "Epoch 51/100\n",
      "60000/60000 [==============================] - 2s 32us/step - loss: 5.2975e-04\n",
      "Epoch 52/100\n",
      "60000/60000 [==============================] - 2s 31us/step - loss: 4.3601e-04\n",
      "Epoch 53/100\n",
      "60000/60000 [==============================] - 2s 32us/step - loss: 3.8668e-04\n",
      "Epoch 54/100\n",
      "60000/60000 [==============================] - 2s 32us/step - loss: 3.5091e-04\n",
      "Epoch 55/100\n",
      "60000/60000 [==============================] - 2s 34us/step - loss: 3.2558e-04\n",
      "Epoch 56/100\n",
      "60000/60000 [==============================] - 2s 34us/step - loss: 3.0369e-04\n",
      "Epoch 57/100\n",
      "60000/60000 [==============================] - 2s 34us/step - loss: 2.8463e-04\n",
      "Epoch 58/100\n",
      "60000/60000 [==============================] - 2s 35us/step - loss: 2.6288e-04\n",
      "Epoch 59/100\n",
      "60000/60000 [==============================] - 2s 33us/step - loss: 2.4699e-04\n",
      "Epoch 60/100\n",
      "60000/60000 [==============================] - 2s 32us/step - loss: 2.3226e-04\n",
      "Epoch 61/100\n",
      "60000/60000 [==============================] - 2s 32us/step - loss: 2.1771e-04\n",
      "Epoch 62/100\n",
      "60000/60000 [==============================] - 2s 35us/step - loss: 2.0968e-04\n",
      "Epoch 63/100\n",
      "60000/60000 [==============================] - 2s 37us/step - loss: 1.9721e-04\n",
      "Epoch 64/100\n",
      "60000/60000 [==============================] - 2s 33us/step - loss: 1.8802e-04\n",
      "Epoch 65/100\n",
      "60000/60000 [==============================] - 2s 34us/step - loss: 1.7501e-04\n",
      "Epoch 66/100\n",
      "60000/60000 [==============================] - 2s 32us/step - loss: 1.6455e-04\n",
      "Epoch 67/100\n",
      "60000/60000 [==============================] - 2s 33us/step - loss: 1.5652e-04\n",
      "Epoch 68/100\n",
      "60000/60000 [==============================] - 2s 33us/step - loss: 1.4935e-04\n",
      "Epoch 69/100\n",
      "60000/60000 [==============================] - 2s 38us/step - loss: 1.4147e-04\n",
      "Epoch 70/100\n",
      "60000/60000 [==============================] - 2s 34us/step - loss: 1.3404e-04\n",
      "Epoch 71/100\n",
      "60000/60000 [==============================] - 2s 32us/step - loss: 1.2552e-04\n",
      "Epoch 72/100\n",
      "60000/60000 [==============================] - 2s 32us/step - loss: 1.1952e-04\n",
      "Epoch 73/100\n",
      "60000/60000 [==============================] - 2s 33us/step - loss: 1.1301e-04\n",
      "Epoch 74/100\n",
      "60000/60000 [==============================] - 2s 32us/step - loss: 1.0741e-04\n",
      "Epoch 75/100\n",
      "60000/60000 [==============================] - 2s 35us/step - loss: 1.0096e-04\n",
      "Epoch 76/100\n",
      "60000/60000 [==============================] - 2s 33us/step - loss: 9.4013e-05\n",
      "Epoch 77/100\n",
      "60000/60000 [==============================] - 2s 32us/step - loss: 9.1797e-05\n",
      "Epoch 78/100\n",
      "60000/60000 [==============================] - 2s 32us/step - loss: 8.6505e-05\n",
      "Epoch 79/100\n",
      "60000/60000 [==============================] - 2s 34us/step - loss: 8.0380e-05\n",
      "Epoch 80/100\n",
      "60000/60000 [==============================] - 2s 32us/step - loss: 7.8477e-05\n",
      "Epoch 81/100\n",
      "60000/60000 [==============================] - 2s 33us/step - loss: 7.2596e-05\n",
      "Epoch 82/100\n",
      "60000/60000 [==============================] - 2s 33us/step - loss: 6.7935e-05\n",
      "Epoch 83/100\n",
      "60000/60000 [==============================] - 2s 33us/step - loss: 6.2301e-05\n",
      "Epoch 84/100\n",
      "60000/60000 [==============================] - 2s 33us/step - loss: 5.9792e-05\n",
      "Epoch 85/100\n",
      "60000/60000 [==============================] - 2s 35us/step - loss: 5.6886e-05\n",
      "Epoch 86/100\n",
      "60000/60000 [==============================] - 2s 35us/step - loss: 5.3353e-05\n",
      "Epoch 87/100\n",
      "60000/60000 [==============================] - 2s 35us/step - loss: 5.0211e-05\n",
      "Epoch 88/100\n",
      "60000/60000 [==============================] - 2s 33us/step - loss: 4.7557e-05\n",
      "Epoch 89/100\n",
      "60000/60000 [==============================] - 2s 34us/step - loss: 4.8601e-05\n",
      "Epoch 90/100\n",
      "60000/60000 [==============================] - 2s 33us/step - loss: 4.3518e-05\n",
      "Epoch 91/100\n",
      "60000/60000 [==============================] - 2s 34us/step - loss: 3.9225e-05\n",
      "Epoch 92/100\n",
      "60000/60000 [==============================] - 2s 33us/step - loss: 3.6222e-05\n",
      "Epoch 93/100\n",
      "60000/60000 [==============================] - 2s 33us/step - loss: 3.4281e-05\n",
      "Epoch 94/100\n",
      "60000/60000 [==============================] - 2s 34us/step - loss: 3.2039e-05\n",
      "Epoch 95/100\n",
      "60000/60000 [==============================] - 2s 33us/step - loss: 2.9783e-05\n",
      "Epoch 96/100\n",
      "60000/60000 [==============================] - 2s 33us/step - loss: 2.8451e-05\n",
      "Epoch 97/100\n",
      "60000/60000 [==============================] - 2s 34us/step - loss: 2.6705e-05\n",
      "Epoch 98/100\n",
      "60000/60000 [==============================] - 2s 31us/step - loss: 2.5968e-05\n",
      "Epoch 99/100\n",
      "60000/60000 [==============================] - 2s 35us/step - loss: 2.3498e-05\n",
      "Epoch 100/100\n",
      "60000/60000 [==============================] - 2s 37us/step - loss: 2.1900e-05\n"
     ]
    }
   ],
   "source": [
    "#train the network\n",
    "\n",
    "HistoryKeras = model.fit(  x_train, y_train, \n",
    "            epochs=Epochs,\n",
    "            batch_size=BatchSize)\n"
   ]
  },
  {
   "cell_type": "code",
   "execution_count": 7,
   "metadata": {},
   "outputs": [
    {
     "data": {
      "text/plain": [
       "1.905785308988257e-05"
      ]
     },
     "execution_count": 7,
     "metadata": {},
     "output_type": "execute_result"
    }
   ],
   "source": [
    "#Predicting\n",
    "\n",
    "#model.evaluate(x_test, y_test)\n",
    "y_train_hat_keras = model.predict_proba(x_train)\n",
    "\n",
    "log_loss(y_train, y_train_hat_keras)"
   ]
  },
  {
   "cell_type": "code",
   "execution_count": 8,
   "metadata": {},
   "outputs": [
    {
     "name": "stdout",
     "output_type": "stream",
     "text": [
      "[0 0 0 0 0 1 0 0 0 0]\n",
      "[1 0 0 0 0 0 0 0 0 0]\n"
     ]
    }
   ],
   "source": [
    "print(y_train[0])\n",
    "print(y_train[1])"
   ]
  },
  {
   "cell_type": "code",
   "execution_count": 9,
   "metadata": {},
   "outputs": [
    {
     "name": "stdout",
     "output_type": "stream",
     "text": [
      "[1.59248151e-30 4.10511780e-31 9.87905524e-29 3.78195153e-07\n",
      " 0.00000000e+00 9.99999642e-01 7.33457418e-37 1.08409536e-29\n",
      " 9.69164618e-27 3.67397989e-25]\n",
      "[1.0000000e+00 4.4683167e-25 1.6138398e-12 9.3892560e-24 4.4029505e-34\n",
      " 1.3528748e-28 1.5309506e-21 4.4388996e-29 7.0907248e-27 1.9980291e-23]\n"
     ]
    }
   ],
   "source": [
    "print(y_train_hat_keras[0])\n",
    "print(y_train_hat_keras[1])"
   ]
  },
  {
   "cell_type": "code",
   "execution_count": 10,
   "metadata": {},
   "outputs": [
    {
     "name": "stdout",
     "output_type": "stream",
     "text": [
      "_________________________________________________________________\n",
      "Layer (type)                 Output Shape              Param #   \n",
      "=================================================================\n",
      "dense (Dense)                multiple                  78500     \n",
      "_________________________________________________________________\n",
      "dense_1 (Dense)              multiple                  10100     \n",
      "_________________________________________________________________\n",
      "dense_2 (Dense)              multiple                  1010      \n",
      "=================================================================\n",
      "Total params: 89,610\n",
      "Trainable params: 89,610\n",
      "Non-trainable params: 0\n",
      "_________________________________________________________________\n"
     ]
    }
   ],
   "source": [
    "#Show aprameters of the network\n",
    "\n",
    "model.summary()\n"
   ]
  },
  {
   "cell_type": "code",
   "execution_count": 11,
   "metadata": {},
   "outputs": [
    {
     "data": {
      "text/plain": [
       "<matplotlib.legend.Legend at 0x1c936ce3208>"
      ]
     },
     "execution_count": 11,
     "metadata": {},
     "output_type": "execute_result"
    },
    {
     "data": {
      "image/png": "[encoded data removed]",
      "text/plain": [
       "<Figure size 432x288 with 1 Axes>"
      ]
     },
     "metadata": {
      "needs_background": "light"
     },
     "output_type": "display_data"
    }
   ],
   "source": [
    "fig, ax = plt.subplots(1,1)\n",
    "ax.plot(model.history.history['loss'], label=\"Keras\")\n",
    "ax.legend()\n",
    "\n"
   ]
  }
 ],
 "metadata": {
  "kernelspec": {
   "display_name": "Python 3",
   "language": "python",
   "name": "python3"
  },
  "language_info": {
   "codemirror_mode": {
    "name": "ipython",
    "version": 3
   },
   "file_extension": ".py",
   "mimetype": "text/x-python",
   "name": "python",
   "nbconvert_exporter": "python",
   "pygments_lexer": "ipython3",
   "version": "3.6.8"
  }
 },
 "nbformat": 4,
 "nbformat_minor": 2
}
