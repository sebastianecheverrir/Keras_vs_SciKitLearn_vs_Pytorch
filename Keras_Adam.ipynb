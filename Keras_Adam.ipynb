{
 "cells": [
  {
   "cell_type": "code",
   "execution_count": 1,
   "metadata": {},
   "outputs": [],
   "source": [
    "#in my Windows the optimizers are located in\n",
    "#/c/Users/zb0857/AppData/Local/Continuum/anaconda2/envs/Tensorflow/lib/site-packages/tensorflow/python/keras\n",
    "#C:\\Users\\zb0857\\AppData\\Local\\Continuum\\anaconda3\\envs\\ML\\Lib\\site-packages\\tensorflow\\python\\keras\n",
    "#/c/Users/zb0857/AppData/Local/Continuum/anaconda2/envs/Tensorflow/lib/site-packages/sklearn/neural_network\n",
    "#C:\\Users\\zb0857\\AppData\\Local\\Continuum\\anaconda3\\envs\\ML\\Lib\\site-packages\\sklearn\\neural_network\n",
    "#rememmber to start the notebook using the environment tensorflow\n",
    "\n",
    "\n",
    "from numpy.random import seed\n",
    "import numpy as np\n",
    "seed(1)\n",
    "from tensorflow import set_random_seed\n",
    "set_random_seed(2)\n",
    "\n",
    "import tensorflow as tf\n",
    "# from tensorflow.python.keras.optimizers import Fire\n",
    "from tensorflow.python.keras.optimizers import Adam\n",
    "from tensorflow.python.keras import backend as K\n",
    "from tensorflow.python.keras import optimizers\n",
    "\n",
    "from sklearn import preprocessing\n",
    "from sklearn.neural_network import MLPClassifier\n",
    "from sklearn.neural_network import MLPRegressor\n",
    "from sklearn.metrics import log_loss\n",
    "\n",
    "import torch\n",
    "import torch.nn as nn\n",
    "import torch.nn.functional as F\n",
    "import torch.utils.data\n",
    "from torch.autograd import Variable\n",
    "\n",
    "\n",
    "import matplotlib.pyplot as plt\n",
    "%matplotlib inline"
   ]
  },
  {
   "cell_type": "markdown",
   "metadata": {},
   "source": [
    "### CrossEntropyLoss\n",
    "The input comes from a softmax\n",
    "\n",
    "        output /= tf.reduce_sum(output,\n",
    "                                reduction_indices=len(output.get_shape()) - 1,\n",
    "                                keep_dims=True)\n",
    "        # manual computation of crossentropy\n",
    "        epsilon = _to_tensor(_EPSILON, output.dtype.base_dtype)\n",
    "        output = tf.clip_by_value(output, epsilon, 1. - epsilon)\n",
    "        return - tf.reduce_sum(target * tf.log(output),\n",
    "                               reduction_indices=len(output.get_shape()) - 1)\n",
    "\n",
    "\n",
    "### Softmax\n",
    "softmax = tf.exp(logits) / tf.reduce_sum(tf.exp(logits), axis)\n"
   ]
  },
  {
   "cell_type": "markdown",
   "metadata": {},
   "source": [
    "## Preparing the input data\n"
   ]
  },
  {
   "cell_type": "code",
   "execution_count": 19,
   "metadata": {},
   "outputs": [],
   "source": [
    "#Preparing the input data\n",
    "\n",
    "#loading the MNIST dataset\n",
    "mnist = tf.keras.datasets.mnist\n",
    "\n",
    "#Separating into train and test (60000 train, 10000 test)\n",
    "(x_train, y_train0),(x_test, y_test0) = mnist.load_data()\n",
    "x_train, x_test = x_train / 255.0, x_test / 255.0\n",
    "\n",
    "#flattening the images (from 28x28 to 784)\n",
    "x_train = x_train.reshape(60000, 784)\n",
    "x_test = x_test.reshape(10000, 784)\n",
    "\n",
    "#converting the otputs (labels) into one hot vectors\n",
    "lb = preprocessing.LabelBinarizer()\n",
    "lb.fit(np.array([0,1,2,3,4,5,6,7,8,9]))\n",
    "y_train = lb.transform(y_train0)\n",
    "y_test = lb.transform(y_test0)"
   ]
  },
  {
   "cell_type": "markdown",
   "metadata": {},
   "source": [
    "## Defining the input parameters\n"
   ]
  },
  {
   "cell_type": "code",
   "execution_count": 20,
   "metadata": {},
   "outputs": [],
   "source": [
    "#Defining the input parameters\n",
    "BatchSize         = 6000\n",
    "NeuronsLayer1     = 100\n",
    "NeuronsLayer2     = 100\n",
    "Epochs            = 100"
   ]
  },
  {
   "cell_type": "markdown",
   "metadata": {},
   "source": [
    "## Model in tensorflow/Keras\n"
   ]
  },
  {
   "cell_type": "code",
   "execution_count": 21,
   "metadata": {},
   "outputs": [
    {
     "name": "stdout",
     "output_type": "stream",
     "text": [
      "<tensorflow.python.keras.engine.sequential.Sequential object at 0x00000220BADB9630>\n"
     ]
    }
   ],
   "source": [
    "# Defining the net\n",
    "\n",
    "model = tf.keras.models.Sequential([\n",
    "  tf.keras.layers.Dense(NeuronsLayer1,\n",
    "                        activation=tf.nn.relu),\n",
    "  tf.keras.layers.Dense(NeuronsLayer2, \n",
    "                        activation=tf.nn.relu),\n",
    "  #  tf.keras.layers.Dropout(0.2),\n",
    "  tf.keras.layers.Dense(10, \n",
    "                        activation=tf.nn.softmax)\n",
    "                                   ])\n",
    "print(model)"
   ]
  },
  {
   "cell_type": "code",
   "execution_count": 22,
   "metadata": {},
   "outputs": [],
   "source": [
    "# Construct our model, # Construct our loss function and an Optimizer. \n",
    "\n",
    "loss = tf.keras.backend.categorical_crossentropy\n",
    "optimizer = optimizers.Adam()\n",
    "\n",
    "model.compile(optimizer= optimizer,\n",
    "              loss=loss ) #'categorical_crossentropy')"
   ]
  },
  {
   "cell_type": "code",
   "execution_count": 23,
   "metadata": {},
   "outputs": [
    {
     "name": "stdout",
     "output_type": "stream",
     "text": [
      "Epoch 1/100\n",
      "60000/60000 [==============================] - 2s 27us/step - loss: 2.0118\n",
      "Epoch 2/100\n",
      "60000/60000 [==============================] - 2s 26us/step - loss: 1.1902\n",
      "Epoch 3/100\n",
      "60000/60000 [==============================] - 1s 24us/step - loss: 0.6249\n",
      "Epoch 4/100\n",
      "60000/60000 [==============================] - 1s 23us/step - loss: 0.4266\n",
      "Epoch 5/100\n",
      "60000/60000 [==============================] - 1s 23us/step - loss: 0.3521\n",
      "Epoch 6/100\n",
      "60000/60000 [==============================] - 2s 25us/step - loss: 0.3120\n",
      "Epoch 7/100\n",
      "60000/60000 [==============================] - 1s 22us/step - loss: 0.2845\n",
      "Epoch 8/100\n",
      "60000/60000 [==============================] - 1s 22us/step - loss: 0.2636\n",
      "Epoch 9/100\n",
      "60000/60000 [==============================] - 2s 28us/step - loss: 0.2457\n",
      "Epoch 10/100\n",
      "60000/60000 [==============================] - 1s 24us/step - loss: 0.2303\n",
      "Epoch 11/100\n",
      "60000/60000 [==============================] - 1s 24us/step - loss: 0.2165\n",
      "Epoch 12/100\n",
      "60000/60000 [==============================] - 1s 24us/step - loss: 0.2041\n",
      "Epoch 13/100\n",
      "60000/60000 [==============================] - 1s 22us/step - loss: 0.1936\n",
      "Epoch 14/100\n",
      "60000/60000 [==============================] - 1s 24us/step - loss: 0.1829\n",
      "Epoch 15/100\n",
      "60000/60000 [==============================] - 2s 29us/step - loss: 0.1735\n",
      "Epoch 16/100\n",
      "60000/60000 [==============================] - 2s 28us/step - loss: 0.1646\n",
      "Epoch 17/100\n",
      "60000/60000 [==============================] - 2s 29us/step - loss: 0.1570\n",
      "Epoch 18/100\n",
      "60000/60000 [==============================] - 2s 31us/step - loss: 0.1501\n",
      "Epoch 19/100\n",
      "60000/60000 [==============================] - 2s 29us/step - loss: 0.1432\n",
      "Epoch 20/100\n",
      "60000/60000 [==============================] - 2s 28us/step - loss: 0.1370\n",
      "Epoch 21/100\n",
      "60000/60000 [==============================] - 2s 29us/step - loss: 0.1314\n",
      "Epoch 22/100\n",
      "60000/60000 [==============================] - 2s 27us/step - loss: 0.1264\n",
      "Epoch 23/100\n",
      "60000/60000 [==============================] - 2s 28us/step - loss: 0.1221\n",
      "Epoch 24/100\n",
      "60000/60000 [==============================] - 2s 28us/step - loss: 0.1170\n",
      "Epoch 25/100\n",
      "60000/60000 [==============================] - 2s 28us/step - loss: 0.1129\n",
      "Epoch 26/100\n",
      "60000/60000 [==============================] - 2s 33us/step - loss: 0.1088\n",
      "Epoch 27/100\n",
      "60000/60000 [==============================] - 2s 29us/step - loss: 0.1045\n",
      "Epoch 28/100\n",
      "60000/60000 [==============================] - 2s 30us/step - loss: 0.1007\n",
      "Epoch 29/100\n",
      "60000/60000 [==============================] - 2s 31us/step - loss: 0.0974\n",
      "Epoch 30/100\n",
      "60000/60000 [==============================] - 2s 33us/step - loss: 0.0948\n",
      "Epoch 31/100\n",
      "60000/60000 [==============================] - 2s 31us/step - loss: 0.0921\n",
      "Epoch 32/100\n",
      "60000/60000 [==============================] - 2s 26us/step - loss: 0.0884\n",
      "Epoch 33/100\n",
      "60000/60000 [==============================] - 2s 26us/step - loss: 0.0855\n",
      "Epoch 34/100\n",
      "60000/60000 [==============================] - 1s 22us/step - loss: 0.0824\n",
      "Epoch 35/100\n",
      "60000/60000 [==============================] - 2s 26us/step - loss: 0.0799\n",
      "Epoch 36/100\n",
      "60000/60000 [==============================] - 2s 27us/step - loss: 0.0778\n",
      "Epoch 37/100\n",
      "60000/60000 [==============================] - 1s 23us/step - loss: 0.0753\n",
      "Epoch 38/100\n",
      "60000/60000 [==============================] - 1s 22us/step - loss: 0.0732\n",
      "Epoch 39/100\n",
      "60000/60000 [==============================] - 1s 22us/step - loss: 0.0708\n",
      "Epoch 40/100\n",
      "60000/60000 [==============================] - 2s 25us/step - loss: 0.0684\n",
      "Epoch 41/100\n",
      "60000/60000 [==============================] - 1s 24us/step - loss: 0.0668\n",
      "Epoch 42/100\n",
      "60000/60000 [==============================] - 1s 24us/step - loss: 0.0653\n",
      "Epoch 43/100\n",
      "60000/60000 [==============================] - 1s 23us/step - loss: 0.0635\n",
      "Epoch 44/100\n",
      "60000/60000 [==============================] - 1s 22us/step - loss: 0.0617\n",
      "Epoch 45/100\n",
      "60000/60000 [==============================] - 1s 25us/step - loss: 0.0603\n",
      "Epoch 46/100\n",
      "60000/60000 [==============================] - 1s 22us/step - loss: 0.0578\n",
      "Epoch 47/100\n",
      "60000/60000 [==============================] - 1s 22us/step - loss: 0.0565\n",
      "Epoch 48/100\n",
      "60000/60000 [==============================] - 1s 24us/step - loss: 0.0550\n",
      "Epoch 49/100\n",
      "60000/60000 [==============================] - 2s 29us/step - loss: 0.0536\n",
      "Epoch 50/100\n",
      "60000/60000 [==============================] - 1s 22us/step - loss: 0.0519\n",
      "Epoch 51/100\n",
      "60000/60000 [==============================] - 1s 22us/step - loss: 0.0502\n",
      "Epoch 52/100\n",
      "60000/60000 [==============================] - 1s 22us/step - loss: 0.0489\n",
      "Epoch 53/100\n",
      "60000/60000 [==============================] - 1s 22us/step - loss: 0.0476\n",
      "Epoch 54/100\n",
      "60000/60000 [==============================] - 1s 22us/step - loss: 0.0468\n",
      "Epoch 55/100\n",
      "60000/60000 [==============================] - 1s 22us/step - loss: 0.0455\n",
      "Epoch 56/100\n",
      "60000/60000 [==============================] - 1s 23us/step - loss: 0.0446\n",
      "Epoch 57/100\n",
      "60000/60000 [==============================] - 1s 24us/step - loss: 0.0434\n",
      "Epoch 58/100\n",
      "60000/60000 [==============================] - 1s 23us/step - loss: 0.0417\n",
      "Epoch 59/100\n",
      "60000/60000 [==============================] - 1s 23us/step - loss: 0.0408\n",
      "Epoch 60/100\n",
      "60000/60000 [==============================] - 1s 23us/step - loss: 0.0395\n",
      "Epoch 61/100\n",
      "60000/60000 [==============================] - 1s 22us/step - loss: 0.0385\n",
      "Epoch 62/100\n",
      "60000/60000 [==============================] - 1s 22us/step - loss: 0.0381\n",
      "Epoch 63/100\n",
      "60000/60000 [==============================] - 2s 25us/step - loss: 0.0364\n",
      "Epoch 64/100\n",
      "60000/60000 [==============================] - 1s 23us/step - loss: 0.0357\n",
      "Epoch 65/100\n",
      "60000/60000 [==============================] - 1s 23us/step - loss: 0.0349\n",
      "Epoch 66/100\n",
      "60000/60000 [==============================] - 1s 22us/step - loss: 0.0337\n",
      "Epoch 67/100\n",
      "60000/60000 [==============================] - 1s 23us/step - loss: 0.0333\n",
      "Epoch 68/100\n",
      "60000/60000 [==============================] - 1s 22us/step - loss: 0.0322\n",
      "Epoch 69/100\n",
      "60000/60000 [==============================] - 1s 23us/step - loss: 0.0315\n",
      "Epoch 70/100\n",
      "60000/60000 [==============================] - 1s 23us/step - loss: 0.0304\n",
      "Epoch 71/100\n",
      "60000/60000 [==============================] - 1s 22us/step - loss: 0.0296\n",
      "Epoch 72/100\n",
      "60000/60000 [==============================] - 1s 22us/step - loss: 0.0288\n",
      "Epoch 73/100\n",
      "60000/60000 [==============================] - 1s 22us/step - loss: 0.0283\n",
      "Epoch 74/100\n",
      "60000/60000 [==============================] - 1s 24us/step - loss: 0.0275\n",
      "Epoch 75/100\n",
      "60000/60000 [==============================] - 2s 25us/step - loss: 0.0271\n",
      "Epoch 76/100\n",
      "60000/60000 [==============================] - 1s 23us/step - loss: 0.0261\n",
      "Epoch 77/100\n",
      "60000/60000 [==============================] - 1s 22us/step - loss: 0.0255\n",
      "Epoch 78/100\n",
      "60000/60000 [==============================] - 1s 23us/step - loss: 0.0250\n",
      "Epoch 79/100\n",
      "60000/60000 [==============================] - 1s 22us/step - loss: 0.0248\n",
      "Epoch 80/100\n",
      "60000/60000 [==============================] - 1s 23us/step - loss: 0.0240\n",
      "Epoch 81/100\n",
      "60000/60000 [==============================] - 2s 25us/step - loss: 0.0237\n",
      "Epoch 82/100\n",
      "60000/60000 [==============================] - 1s 22us/step - loss: 0.0225\n",
      "Epoch 83/100\n",
      "60000/60000 [==============================] - 1s 22us/step - loss: 0.0220\n",
      "Epoch 84/100\n",
      "60000/60000 [==============================] - 1s 22us/step - loss: 0.0213\n",
      "Epoch 85/100\n",
      "60000/60000 [==============================] - 1s 22us/step - loss: 0.0207\n",
      "Epoch 86/100\n",
      "60000/60000 [==============================] - 1s 22us/step - loss: 0.0205\n",
      "Epoch 87/100\n",
      "60000/60000 [==============================] - 1s 22us/step - loss: 0.0201\n",
      "Epoch 88/100\n",
      "60000/60000 [==============================] - 1s 22us/step - loss: 0.0196\n",
      "Epoch 89/100\n",
      "60000/60000 [==============================] - 1s 22us/step - loss: 0.0191\n",
      "Epoch 90/100\n",
      "60000/60000 [==============================] - 1s 22us/step - loss: 0.0182\n",
      "Epoch 91/100\n",
      "60000/60000 [==============================] - 1s 22us/step - loss: 0.0178\n",
      "Epoch 92/100\n",
      "60000/60000 [==============================] - 1s 22us/step - loss: 0.0174\n",
      "Epoch 93/100\n",
      "60000/60000 [==============================] - 1s 23us/step - loss: 0.0174\n",
      "Epoch 94/100\n",
      "60000/60000 [==============================] - 1s 23us/step - loss: 0.0168\n",
      "Epoch 95/100\n",
      "60000/60000 [==============================] - 1s 22us/step - loss: 0.0166\n",
      "Epoch 96/100\n",
      "60000/60000 [==============================] - 1s 24us/step - loss: 0.0158\n",
      "Epoch 97/100\n",
      "60000/60000 [==============================] - 2s 26us/step - loss: 0.0154\n",
      "Epoch 98/100\n",
      "60000/60000 [==============================] - 1s 23us/step - loss: 0.0151\n",
      "Epoch 99/100\n",
      "60000/60000 [==============================] - 1s 24us/step - loss: 0.0147\n",
      "Epoch 100/100\n",
      "60000/60000 [==============================] - 1s 24us/step - loss: 0.0142\n"
     ]
    }
   ],
   "source": [
    "#train the network\n",
    "\n",
    "HistoryKeras = model.fit(  x_train, y_train, \n",
    "            epochs=Epochs,\n",
    "            batch_size=BatchSize)\n"
   ]
  },
  {
   "cell_type": "code",
   "execution_count": 24,
   "metadata": {},
   "outputs": [
    {
     "data": {
      "text/plain": [
       "0.013767337911313926"
      ]
     },
     "execution_count": 24,
     "metadata": {},
     "output_type": "execute_result"
    }
   ],
   "source": [
    "#Predicting\n",
    "\n",
    "#model.evaluate(x_test, y_test)\n",
    "y_train_hat_keras = model.predict_proba(x_train)\n",
    "\n",
    "log_loss(y_train, y_train_hat_keras)"
   ]
  },
  {
   "cell_type": "code",
   "execution_count": 25,
   "metadata": {},
   "outputs": [
    {
     "name": "stdout",
     "output_type": "stream",
     "text": [
      "[0 0 0 0 0 1 0 0 0 0]\n",
      "[1 0 0 0 0 0 0 0 0 0]\n"
     ]
    }
   ],
   "source": [
    "print(y_train[0])\n",
    "print(y_train[1])"
   ]
  },
  {
   "cell_type": "code",
   "execution_count": 9,
   "metadata": {},
   "outputs": [
    {
     "name": "stdout",
     "output_type": "stream",
     "text": [
      "[3.9880906e-14 6.0275569e-13 1.0921624e-11 7.2521344e-03 5.0610332e-22\n",
      " 9.9274784e-01 1.1621728e-15 1.3641267e-11 5.8727120e-12 8.0995748e-12]\n",
      "[9.9999821e-01 2.7508361e-13 1.8465716e-06 3.5425711e-11 1.1048017e-13\n",
      " 1.4060317e-14 2.6582250e-09 2.1069781e-11 3.7640281e-14 5.1660735e-11]\n"
     ]
    }
   ],
   "source": [
    "print(y_train_hat_keras[0])\n",
    "print(y_train_hat_keras[1])"
   ]
  },
  {
   "cell_type": "code",
   "execution_count": 10,
   "metadata": {},
   "outputs": [
    {
     "name": "stdout",
     "output_type": "stream",
     "text": [
      "_________________________________________________________________\n",
      "Layer (type)                 Output Shape              Param #   \n",
      "=================================================================\n",
      "dense (Dense)                multiple                  78500     \n",
      "_________________________________________________________________\n",
      "dense_1 (Dense)              multiple                  10100     \n",
      "_________________________________________________________________\n",
      "dense_2 (Dense)              multiple                  1010      \n",
      "=================================================================\n",
      "Total params: 89,610\n",
      "Trainable params: 89,610\n",
      "Non-trainable params: 0\n",
      "_________________________________________________________________\n"
     ]
    }
   ],
   "source": [
    "#Show aprameters of the network\n",
    "\n",
    "model.summary()\n"
   ]
  },
  {
   "cell_type": "code",
   "execution_count": null,
   "metadata": {},
   "outputs": [],
   "source": []
  },
  {
   "cell_type": "code",
   "execution_count": null,
   "metadata": {},
   "outputs": [],
   "source": []
  },
  {
   "cell_type": "code",
   "execution_count": null,
   "metadata": {},
   "outputs": [],
   "source": []
  },
  {
   "cell_type": "code",
   "execution_count": null,
   "metadata": {},
   "outputs": [],
   "source": []
  },
  {
   "cell_type": "code",
   "execution_count": null,
   "metadata": {},
   "outputs": [],
   "source": []
  },
  {
   "cell_type": "code",
   "execution_count": null,
   "metadata": {},
   "outputs": [],
   "source": []
  }
 ],
 "metadata": {
  "kernelspec": {
   "display_name": "Python 3",
   "language": "python",
   "name": "python3"
  },
  "language_info": {
   "codemirror_mode": {
    "name": "ipython",
    "version": 3
   },
   "file_extension": ".py",
   "mimetype": "text/x-python",
   "name": "python",
   "nbconvert_exporter": "python",
   "pygments_lexer": "ipython3",
   "version": "3.6.8"
  }
 },
 "nbformat": 4,
 "nbformat_minor": 2
}
