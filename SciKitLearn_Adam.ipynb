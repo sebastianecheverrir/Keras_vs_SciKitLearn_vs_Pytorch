{
 "cells": [
  {
   "cell_type": "code",
   "execution_count": 1,
   "metadata": {},
   "outputs": [],
   "source": [
    "from numpy.random import seed\n",
    "import numpy as np\n",
    "seed(1)\n",
    "from tensorflow import set_random_seed\n",
    "set_random_seed(2)\n",
    "\n",
    "import tensorflow as tf\n",
    "# from tensorflow.python.keras.optimizers import Fire\n",
    "from tensorflow.python.keras.optimizers import Adam\n",
    "from tensorflow.python.keras import backend as K\n",
    "from tensorflow.python.keras import optimizers\n",
    "\n",
    "from sklearn import preprocessing\n",
    "from sklearn.neural_network import MLPClassifier\n",
    "from sklearn.neural_network import MLPRegressor\n",
    "from sklearn.metrics import log_loss\n",
    "\n",
    "import torch\n",
    "import torch.nn as nn\n",
    "import torch.nn.functional as F\n",
    "import torch.utils.data\n",
    "from torch.autograd import Variable\n",
    "\n",
    "\n",
    "import matplotlib.pyplot as plt\n",
    "%matplotlib inline"
   ]
  },
  {
   "cell_type": "markdown",
   "metadata": {},
   "source": [
    "## Preparing the input data\n"
   ]
  },
  {
   "cell_type": "code",
   "execution_count": 2,
   "metadata": {},
   "outputs": [],
   "source": [
    "#Preparing the input data\n",
    "\n",
    "#loading the MNIST dataset\n",
    "mnist = tf.keras.datasets.mnist\n",
    "\n",
    "#Separating into train and test (60000 train, 10000 test)\n",
    "(x_train, y_train0),(x_test, y_test0) = mnist.load_data()\n",
    "x_train, x_test = x_train / 255.0, x_test / 255.0\n",
    "\n",
    "#flattening the images (from 28x28 to 784)\n",
    "x_train = x_train.reshape(60000, 784)\n",
    "x_test = x_test.reshape(10000, 784)\n",
    "\n",
    "#we do not need to convert the outputs to one hot vectors.\n",
    "#Also, if we convert the output to one hot vectors, the _label_binarizer.y_type_ \n",
    "#    becomes multilabel and the out_activation_ becomes logistic\n",
    "#    Since keras and pytorch use softmax, we need to keep it like this\n",
    "# #converting the otputs (labels) into one hot vectors\n",
    "# lb = preprocessing.LabelBinarizer()\n",
    "# lb.fit(np.array([0,1,2,3,4,5,6,7,8,9]))\n",
    "# y_train = lb.transform(y_train0)\n",
    "# y_test = lb.transform(y_test0)"
   ]
  },
  {
   "cell_type": "markdown",
   "metadata": {},
   "source": [
    "## Defining the input parameters\n"
   ]
  },
  {
   "cell_type": "code",
   "execution_count": 3,
   "metadata": {},
   "outputs": [],
   "source": [
    "#Defining the input parameters\n",
    "BatchSize         = 500\n",
    "NeuronsLayer1     = 100\n",
    "NeuronsLayer2     = 100\n",
    "Epochs            = 100"
   ]
  },
  {
   "cell_type": "markdown",
   "metadata": {},
   "source": [
    "## Model in SKLearn"
   ]
  },
  {
   "cell_type": "code",
   "execution_count": 4,
   "metadata": {},
   "outputs": [],
   "source": [
    "# Defining the net\n",
    "# Construct our model, # Construct our loss function and an Optimizer. \n",
    "\n",
    "#MLP regressor uses the square loss\n",
    "#MLP classifier uses the log loss function\n",
    "MLP_clf =  MLPClassifier( hidden_layer_sizes         = (NeuronsLayer1,NeuronsLayer2),\n",
    "                          activation                 = 'relu',#,'identity', 'tanh', 'relu'],\n",
    "                          solver                     = 'adam',\n",
    "                          alpha                      = 0.0         ,\n",
    "                          batch_size                 = BatchSize,\n",
    "                          max_iter                   = Epochs              ,\n",
    "                          random_state               = 1234,\n",
    "                          tol                        = -10.0 ,\n",
    "                          verbose                    = True,\n",
    "                        )"
   ]
  },
  {
   "cell_type": "code",
   "execution_count": 5,
   "metadata": {},
   "outputs": [
    {
     "data": {
      "text/plain": [
       "{'activation': 'relu',\n",
       " 'alpha': 0.0,\n",
       " 'batch_size': 500,\n",
       " 'beta_1': 0.9,\n",
       " 'beta_2': 0.999,\n",
       " 'early_stopping': False,\n",
       " 'epsilon': 1e-08,\n",
       " 'hidden_layer_sizes': (100, 100),\n",
       " 'learning_rate': 'constant',\n",
       " 'learning_rate_init': 0.001,\n",
       " 'max_iter': 100,\n",
       " 'momentum': 0.9,\n",
       " 'n_iter_no_change': 10,\n",
       " 'nesterovs_momentum': True,\n",
       " 'power_t': 0.5,\n",
       " 'random_state': 1234,\n",
       " 'shuffle': True,\n",
       " 'solver': 'adam',\n",
       " 'tol': -10.0,\n",
       " 'validation_fraction': 0.1,\n",
       " 'verbose': True,\n",
       " 'warm_start': False}"
      ]
     },
     "execution_count": 5,
     "metadata": {},
     "output_type": "execute_result"
    }
   ],
   "source": [
    "#Show aprameters of the network\n",
    "MLP_clf.get_params()"
   ]
  },
  {
   "cell_type": "code",
   "execution_count": 6,
   "metadata": {},
   "outputs": [
    {
     "name": "stdout",
     "output_type": "stream",
     "text": [
      "Iteration 1, loss = 0.57325389\n",
      "Iteration 2, loss = 0.21299496\n",
      "Iteration 3, loss = 0.15770762\n",
      "Iteration 4, loss = 0.12626270\n",
      "Iteration 5, loss = 0.10237293\n",
      "Iteration 6, loss = 0.08634479\n",
      "Iteration 7, loss = 0.07412249\n",
      "Iteration 8, loss = 0.06540337\n",
      "Iteration 9, loss = 0.05561397\n",
      "Iteration 10, loss = 0.04935638\n",
      "Iteration 11, loss = 0.04262858\n",
      "Iteration 12, loss = 0.03737120\n",
      "Iteration 13, loss = 0.03318029\n",
      "Iteration 14, loss = 0.02973333\n",
      "Iteration 15, loss = 0.02592448\n",
      "Iteration 16, loss = 0.02404487\n",
      "Iteration 17, loss = 0.01937777\n",
      "Iteration 18, loss = 0.01869876\n",
      "Iteration 19, loss = 0.01705470\n",
      "Iteration 20, loss = 0.01381812\n",
      "Iteration 21, loss = 0.01187036\n",
      "Iteration 22, loss = 0.01088985\n",
      "Iteration 23, loss = 0.01068537\n",
      "Iteration 24, loss = 0.00757951\n",
      "Iteration 25, loss = 0.00762695\n",
      "Iteration 26, loss = 0.00575214\n",
      "Iteration 27, loss = 0.00497791\n",
      "Iteration 28, loss = 0.00505738\n",
      "Iteration 29, loss = 0.00404529\n",
      "Iteration 30, loss = 0.00376933\n",
      "Iteration 31, loss = 0.00422074\n",
      "Iteration 32, loss = 0.00301069\n",
      "Iteration 33, loss = 0.00347058\n",
      "Iteration 34, loss = 0.00211628\n",
      "Iteration 35, loss = 0.00150913\n",
      "Iteration 36, loss = 0.00131208\n",
      "Iteration 37, loss = 0.00117773\n",
      "Iteration 38, loss = 0.00116949\n",
      "Iteration 39, loss = 0.00086759\n",
      "Iteration 40, loss = 0.00074322\n",
      "Iteration 41, loss = 0.00067194\n",
      "Iteration 42, loss = 0.00060243\n",
      "Iteration 43, loss = 0.00055501\n",
      "Iteration 44, loss = 0.00050733\n",
      "Iteration 45, loss = 0.00046995\n",
      "Iteration 46, loss = 0.00043936\n",
      "Iteration 47, loss = 0.00040097\n",
      "Iteration 48, loss = 0.00040994\n",
      "Iteration 49, loss = 0.00036530\n",
      "Iteration 50, loss = 0.00032089\n",
      "Iteration 51, loss = 0.00028854\n",
      "Iteration 52, loss = 0.00028090\n",
      "Iteration 53, loss = 0.00024671\n",
      "Iteration 54, loss = 0.00022741\n",
      "Iteration 55, loss = 0.00021649\n",
      "Iteration 56, loss = 0.00019564\n",
      "Iteration 57, loss = 0.00018274\n",
      "Iteration 58, loss = 0.00018276\n",
      "Iteration 59, loss = 0.00015788\n",
      "Iteration 60, loss = 0.00014920\n",
      "Iteration 61, loss = 0.00013686\n",
      "Iteration 62, loss = 0.00013366\n",
      "Iteration 63, loss = 0.00012199\n",
      "Iteration 64, loss = 0.00010724\n",
      "Iteration 65, loss = 0.00009845\n",
      "Iteration 66, loss = 0.00009112\n",
      "Iteration 67, loss = 0.00008679\n",
      "Iteration 68, loss = 0.00007758\n",
      "Iteration 69, loss = 0.00007201\n",
      "Iteration 70, loss = 0.00006729\n",
      "Iteration 71, loss = 0.00006430\n",
      "Iteration 72, loss = 0.00006181\n",
      "Iteration 73, loss = 0.00005416\n",
      "Iteration 74, loss = 0.00005119\n",
      "Iteration 75, loss = 0.00004514\n",
      "Iteration 76, loss = 0.00005105\n",
      "Iteration 77, loss = 0.00004276\n",
      "Iteration 78, loss = 0.00003753\n",
      "Iteration 79, loss = 0.00003942\n",
      "Iteration 80, loss = 0.00003328\n",
      "Iteration 81, loss = 0.00003040\n",
      "Iteration 82, loss = 0.00002759\n",
      "Iteration 83, loss = 0.00002509\n",
      "Iteration 84, loss = 0.00002336\n",
      "Iteration 85, loss = 0.00002204\n",
      "Iteration 86, loss = 0.00002052\n",
      "Iteration 87, loss = 0.00001990\n",
      "Iteration 88, loss = 0.00001802\n",
      "Iteration 89, loss = 0.00001653\n",
      "Iteration 90, loss = 0.00001553\n",
      "Iteration 91, loss = 0.00001556\n",
      "Iteration 92, loss = 0.00001350\n",
      "Iteration 93, loss = 0.00001275\n",
      "Iteration 94, loss = 0.00001205\n",
      "Iteration 95, loss = 0.00001087\n",
      "Iteration 96, loss = 0.00000992\n",
      "Iteration 97, loss = 0.00000930\n",
      "Iteration 98, loss = 0.00000880\n",
      "Iteration 99, loss = 0.00000811\n",
      "Iteration 100, loss = 0.00000799\n"
     ]
    },
    {
     "name": "stderr",
     "output_type": "stream",
     "text": [
      "C:\\Users\\zb0857\\AppData\\Local\\Continuum\\anaconda3\\envs\\ML\\lib\\site-packages\\sklearn\\neural_network\\multilayer_perceptron.py:566: ConvergenceWarning: Stochastic Optimizer: Maximum iterations (100) reached and the optimization hasn't converged yet.\n",
      "  % self.max_iter, ConvergenceWarning)\n"
     ]
    },
    {
     "data": {
      "text/plain": [
       "MLPClassifier(activation='relu', alpha=0.0, batch_size=500, beta_1=0.9,\n",
       "              beta_2=0.999, early_stopping=False, epsilon=1e-08,\n",
       "              hidden_layer_sizes=(100, 100), learning_rate='constant',\n",
       "              learning_rate_init=0.001, max_iter=100, momentum=0.9,\n",
       "              n_iter_no_change=10, nesterovs_momentum=True, power_t=0.5,\n",
       "              random_state=1234, shuffle=True, solver='adam', tol=-10.0,\n",
       "              validation_fraction=0.1, verbose=True, warm_start=False)"
      ]
     },
     "execution_count": 6,
     "metadata": {},
     "output_type": "execute_result"
    }
   ],
   "source": [
    "#train the network\n",
    "\n",
    "MLP_clf.fit(x_train, y_train0)\n"
   ]
  },
  {
   "cell_type": "code",
   "execution_count": 7,
   "metadata": {},
   "outputs": [
    {
     "data": {
      "text/plain": [
       "6.797488053580999e-06"
      ]
     },
     "execution_count": 7,
     "metadata": {},
     "output_type": "execute_result"
    }
   ],
   "source": [
    "#Predicting\n",
    "\n",
    "y_train_hat_clf_sk = MLP_clf.predict_proba(x_train)\n",
    "\n",
    "log_loss(y_train0, y_train_hat_clf_sk)"
   ]
  },
  {
   "cell_type": "code",
   "execution_count": 8,
   "metadata": {},
   "outputs": [
    {
     "name": "stdout",
     "output_type": "stream",
     "text": [
      "5\n",
      "0\n"
     ]
    }
   ],
   "source": [
    "print(y_train0[0])\n",
    "print(y_train0[1])"
   ]
  },
  {
   "cell_type": "code",
   "execution_count": 9,
   "metadata": {},
   "outputs": [
    {
     "name": "stdout",
     "output_type": "stream",
     "text": [
      "[2.70809940e-29 9.81606200e-27 1.15198413e-26 1.23578550e-06\n",
      " 1.73868478e-48 9.99998764e-01 3.36232818e-34 1.61854154e-27\n",
      " 5.19096082e-25 3.67395431e-26]\n",
      "[1.00000000e+00 1.31448414e-34 6.10330686e-17 2.18557786e-26\n",
      " 6.92783645e-43 2.23946052e-27 2.50928070e-23 7.97880469e-30\n",
      " 1.71811914e-30 4.21395358e-19]\n"
     ]
    }
   ],
   "source": [
    "print(y_train_hat_clf_sk[0])\n",
    "print(y_train_hat_clf_sk[1])"
   ]
  },
  {
   "cell_type": "code",
   "execution_count": 10,
   "metadata": {},
   "outputs": [
    {
     "name": "stdout",
     "output_type": "stream",
     "text": [
      "Number of Layers:  3\n",
      "Weights layer 1:  78500\n",
      "Weights layer 2:  10100\n",
      "Weights layer 3:  1010\n"
     ]
    }
   ],
   "source": [
    "print(\"Number of Layers: \", len(MLP_clf.coefs_))\n",
    "print(\"Weights layer 1: \", MLP_clf.coefs_[0].size+MLP_clf.intercepts_[0].size)\n",
    "print(\"Weights layer 2: \", MLP_clf.coefs_[1].size+MLP_clf.intercepts_[1].size)\n",
    "print(\"Weights layer 3: \", MLP_clf.coefs_[2].size+MLP_clf.intercepts_[2].size)\n"
   ]
  },
  {
   "cell_type": "code",
   "execution_count": 11,
   "metadata": {},
   "outputs": [
    {
     "name": "stdout",
     "output_type": "stream",
     "text": [
      "softmax\n",
      "multiclass\n"
     ]
    }
   ],
   "source": [
    "print(MLP_clf.out_activation_)\n",
    "print(MLP_clf._label_binarizer.y_type_)\n"
   ]
  },
  {
   "cell_type": "code",
   "execution_count": 12,
   "metadata": {},
   "outputs": [
    {
     "data": {
      "text/plain": [
       "<matplotlib.legend.Legend at 0x246850abdd8>"
      ]
     },
     "execution_count": 12,
     "metadata": {},
     "output_type": "execute_result"
    },
    {
     "data": {
      "image/png": "[encoded data removed]",
      "text/plain": [
       "<Figure size 432x288 with 1 Axes>"
      ]
     },
     "metadata": {
      "needs_background": "light"
     },
     "output_type": "display_data"
    }
   ],
   "source": [
    "fig, ax = plt.subplots(1,1)\n",
    "ax.plot(MLP_clf.loss_curve_, label=\"SciKitLearn\")\n",
    "ax.legend()"
   ]
  }
 ],
 "metadata": {
  "kernelspec": {
   "display_name": "Python 3",
   "language": "python",
   "name": "python3"
  },
  "language_info": {
   "codemirror_mode": {
    "name": "ipython",
    "version": 3
   },
   "file_extension": ".py",
   "mimetype": "text/x-python",
   "name": "python",
   "nbconvert_exporter": "python",
   "pygments_lexer": "ipython3",
   "version": "3.6.8"
  }
 },
 "nbformat": 4,
 "nbformat_minor": 2
}
