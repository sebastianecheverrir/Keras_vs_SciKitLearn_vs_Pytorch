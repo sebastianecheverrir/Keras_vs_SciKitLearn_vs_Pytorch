{
 "cells": [
  {
   "cell_type": "code",
   "execution_count": 1,
   "metadata": {},
   "outputs": [],
   "source": [
    "from numpy.random import seed\n",
    "import numpy as np\n",
    "seed(1)\n",
    "from tensorflow import set_random_seed\n",
    "set_random_seed(2)\n",
    "\n",
    "import tensorflow as tf\n",
    "# from tensorflow.python.keras.optimizers import Fire\n",
    "from tensorflow.python.keras.optimizers import Adam\n",
    "from tensorflow.python.keras import backend as K\n",
    "from tensorflow.python.keras import optimizers\n",
    "\n",
    "from sklearn import preprocessing\n",
    "from sklearn.neural_network import MLPClassifier\n",
    "from sklearn.neural_network import MLPRegressor\n",
    "from sklearn.metrics import log_loss\n",
    "\n",
    "import torch\n",
    "import torch.nn as nn\n",
    "import torch.nn.functional as F\n",
    "import torch.utils.data\n",
    "from torch.autograd import Variable\n",
    "\n",
    "\n",
    "import matplotlib.pyplot as plt\n",
    "%matplotlib inline"
   ]
  },
  {
   "cell_type": "markdown",
   "metadata": {},
   "source": [
    "## Preparing the input data\n"
   ]
  },
  {
   "cell_type": "code",
   "execution_count": 2,
   "metadata": {},
   "outputs": [],
   "source": [
    "#Preparing the input data\n",
    "\n",
    "#loading the MNIST dataset\n",
    "mnist = tf.keras.datasets.mnist\n",
    "\n",
    "#Separating into train and test (60000 train, 10000 test)\n",
    "(x_train, y_train0),(x_test, y_test0) = mnist.load_data()\n",
    "x_train, x_test = x_train / 255.0, x_test / 255.0\n",
    "\n",
    "#flattening the images (from 28x28 to 784)\n",
    "x_train = x_train.reshape(60000, 784)\n",
    "x_test = x_test.reshape(10000, 784)\n",
    "\n",
    "#converting the otputs (labels) into one hot vectors\n",
    "lb = preprocessing.LabelBinarizer()\n",
    "lb.fit(np.array([0,1,2,3,4,5,6,7,8,9]))\n",
    "y_train = lb.transform(y_train0)\n",
    "y_test = lb.transform(y_test0)"
   ]
  },
  {
   "cell_type": "markdown",
   "metadata": {},
   "source": [
    "## Defining the input parameters\n"
   ]
  },
  {
   "cell_type": "code",
   "execution_count": 3,
   "metadata": {},
   "outputs": [],
   "source": [
    "#Defining the input parameters\n",
    "BatchSize         = 128\n",
    "NeuronsLayer1     = 1000\n",
    "NeuronsLayer2     = 1000\n",
    "Epochs            = 25"
   ]
  },
  {
   "cell_type": "markdown",
   "metadata": {},
   "source": [
    "## Model in tensorflow/Keras\n"
   ]
  },
  {
   "cell_type": "code",
   "execution_count": 4,
   "metadata": {},
   "outputs": [
    {
     "name": "stdout",
     "output_type": "stream",
     "text": [
      "<tensorflow.python.keras.engine.sequential.Sequential object at 0x000001F0A365A2E8>\n"
     ]
    }
   ],
   "source": [
    "# Defining the net\n",
    "\n",
    "model = tf.keras.models.Sequential([\n",
    "  tf.keras.layers.Dense(NeuronsLayer1,\n",
    "                        activation=tf.nn.relu),\n",
    "  tf.keras.layers.Dense(NeuronsLayer2, \n",
    "                        activation=tf.nn.relu),\n",
    "  #  tf.keras.layers.Dropout(0.2),\n",
    "  tf.keras.layers.Dense(10, \n",
    "                        activation=tf.nn.softmax)\n",
    "                                   ])\n",
    "print(model)"
   ]
  },
  {
   "cell_type": "code",
   "execution_count": 5,
   "metadata": {},
   "outputs": [],
   "source": [
    "# Construct our model, # Construct our loss function and an Optimizer. \n",
    "\n",
    "loss = tf.keras.backend.categorical_crossentropy\n",
    "optimizer = optimizers.Adam()\n",
    "\n",
    "model.compile(optimizer= optimizer,\n",
    "              loss=loss ) #'categorical_crossentropy')"
   ]
  },
  {
   "cell_type": "code",
   "execution_count": 6,
   "metadata": {},
   "outputs": [
    {
     "name": "stdout",
     "output_type": "stream",
     "text": [
      "Epoch 1/25\n",
      "60000/60000 [==============================] - 37s 624us/step - loss: 0.1964\n",
      "Epoch 2/25\n",
      "60000/60000 [==============================] - 44s 741us/step - loss: 0.0722\n",
      "Epoch 3/25\n",
      "60000/60000 [==============================] - 43s 712us/step - loss: 0.0476\n",
      "Epoch 4/25\n",
      "60000/60000 [==============================] - 43s 717us/step - loss: 0.0339\n",
      "Epoch 5/25\n",
      "60000/60000 [==============================] - 45s 748us/step - loss: 0.0278\n",
      "Epoch 6/25\n",
      "60000/60000 [==============================] - 46s 771us/step - loss: 0.0224\n",
      "Epoch 7/25\n",
      "60000/60000 [==============================] - 53s 885us/step - loss: 0.0213\n",
      "Epoch 8/25\n",
      "60000/60000 [==============================] - 42s 705us/step - loss: 0.0134\n",
      "Epoch 9/25\n",
      "60000/60000 [==============================] - 42s 693us/step - loss: 0.0162\n",
      "Epoch 10/25\n",
      "60000/60000 [==============================] - 40s 666us/step - loss: 0.0154\n",
      "Epoch 11/25\n",
      "60000/60000 [==============================] - 41s 686us/step - loss: 0.0141\n",
      "Epoch 12/25\n",
      "60000/60000 [==============================] - 58s 966us/step - loss: 0.0133\n",
      "Epoch 13/25\n",
      "60000/60000 [==============================] - 54s 893us/step - loss: 0.0124\n",
      "Epoch 14/25\n",
      "60000/60000 [==============================] - 55s 909us/step - loss: 0.0106\n",
      "Epoch 15/25\n",
      "60000/60000 [==============================] - 47s 778us/step - loss: 0.0089\n",
      "Epoch 16/25\n",
      "60000/60000 [==============================] - 43s 716us/step - loss: 0.0105\n",
      "Epoch 17/25\n",
      "60000/60000 [==============================] - 49s 815us/step - loss: 0.0099\n",
      "Epoch 18/25\n",
      "60000/60000 [==============================] - 45s 758us/step - loss: 0.0103\n",
      "Epoch 19/25\n",
      "60000/60000 [==============================] - 47s 790us/step - loss: 0.0101\n",
      "Epoch 20/25\n",
      "60000/60000 [==============================] - 50s 836us/step - loss: 0.0064\n",
      "Epoch 21/25\n",
      "60000/60000 [==============================] - 41s 675us/step - loss: 0.0040\n",
      "Epoch 22/25\n",
      "60000/60000 [==============================] - 40s 659us/step - loss: 0.0111\n",
      "Epoch 23/25\n",
      "60000/60000 [==============================] - 39s 658us/step - loss: 0.0077\n",
      "Epoch 24/25\n",
      "60000/60000 [==============================] - 40s 669us/step - loss: 0.0084\n",
      "Epoch 25/25\n",
      "60000/60000 [==============================] - 41s 691us/step - loss: 0.0058\n"
     ]
    }
   ],
   "source": [
    "#train the network\n",
    "\n",
    "HistoryKeras = model.fit(  x_train, y_train, \n",
    "            epochs=Epochs,\n",
    "            batch_size=BatchSize)\n"
   ]
  },
  {
   "cell_type": "code",
   "execution_count": 7,
   "metadata": {},
   "outputs": [
    {
     "data": {
      "text/plain": [
       "0.005115568961252412"
      ]
     },
     "execution_count": 7,
     "metadata": {},
     "output_type": "execute_result"
    }
   ],
   "source": [
    "#Predicting\n",
    "\n",
    "#model.evaluate(x_test, y_test)\n",
    "y_train_hat_keras = model.predict_proba(x_train)\n",
    "\n",
    "log_loss(y_train, y_train_hat_keras)"
   ]
  },
  {
   "cell_type": "code",
   "execution_count": 8,
   "metadata": {},
   "outputs": [
    {
     "name": "stdout",
     "output_type": "stream",
     "text": [
      "[0 0 0 0 0 1 0 0 0 0]\n",
      "[1 0 0 0 0 0 0 0 0 0]\n"
     ]
    }
   ],
   "source": [
    "print(y_train[0])\n",
    "print(y_train[1])"
   ]
  },
  {
   "cell_type": "code",
   "execution_count": 9,
   "metadata": {},
   "outputs": [
    {
     "name": "stdout",
     "output_type": "stream",
     "text": [
      "[1.0118771e-25 1.2124842e-14 4.3986735e-21 1.9106610e-06 7.6160707e-29\n",
      " 9.9999809e-01 1.8878221e-22 1.0510336e-19 1.9181364e-22 2.8549589e-18]\n",
      "[1.0000000e+00 4.1074197e-32 3.9119044e-24 3.2894440e-32 8.2202711e-27\n",
      " 4.2230402e-38 1.9121732e-20 2.6093168e-28 1.1752432e-32 4.2792914e-25]\n"
     ]
    }
   ],
   "source": [
    "print(y_train_hat_keras[0])\n",
    "print(y_train_hat_keras[1])"
   ]
  },
  {
   "cell_type": "code",
   "execution_count": 10,
   "metadata": {},
   "outputs": [
    {
     "name": "stdout",
     "output_type": "stream",
     "text": [
      "_________________________________________________________________\n",
      "Layer (type)                 Output Shape              Param #   \n",
      "=================================================================\n",
      "dense (Dense)                multiple                  785000    \n",
      "_________________________________________________________________\n",
      "dense_1 (Dense)              multiple                  1001000   \n",
      "_________________________________________________________________\n",
      "dense_2 (Dense)              multiple                  10010     \n",
      "=================================================================\n",
      "Total params: 1,796,010\n",
      "Trainable params: 1,796,010\n",
      "Non-trainable params: 0\n",
      "_________________________________________________________________\n"
     ]
    }
   ],
   "source": [
    "#Show aprameters of the network\n",
    "\n",
    "model.summary()\n"
   ]
  },
  {
   "cell_type": "code",
   "execution_count": 11,
   "metadata": {},
   "outputs": [
    {
     "data": {
      "text/plain": [
       "<matplotlib.legend.Legend at 0x1f0a4981c18>"
      ]
     },
     "execution_count": 11,
     "metadata": {},
     "output_type": "execute_result"
    },
    {
     "data": {
      "image/png": "[encoded data removed]",
      "text/plain": [
       "<Figure size 432x288 with 1 Axes>"
      ]
     },
     "metadata": {
      "needs_background": "light"
     },
     "output_type": "display_data"
    }
   ],
   "source": [
    "fig, ax = plt.subplots(1,1)\n",
    "ax.set_yscale('log')\n",
    "ax.plot(model.history.history['loss'], label=\"Keras\")\n",
    "ax.legend()\n",
    "\n"
   ]
  },
  {
   "cell_type": "code",
   "execution_count": null,
   "metadata": {},
   "outputs": [],
   "source": []
  }
 ],
 "metadata": {
  "kernelspec": {
   "display_name": "Python 3",
   "language": "python",
   "name": "python3"
  },
  "language_info": {
   "codemirror_mode": {
    "name": "ipython",
    "version": 3
   },
   "file_extension": ".py",
   "mimetype": "text/x-python",
   "name": "python",
   "nbconvert_exporter": "python",
   "pygments_lexer": "ipython3",
   "version": "3.6.8"
  }
 },
 "nbformat": 4,
 "nbformat_minor": 2
}
