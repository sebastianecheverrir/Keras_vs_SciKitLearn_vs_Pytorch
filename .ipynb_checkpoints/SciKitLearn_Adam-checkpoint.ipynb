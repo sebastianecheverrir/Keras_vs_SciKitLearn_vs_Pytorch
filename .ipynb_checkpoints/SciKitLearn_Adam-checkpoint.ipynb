{
 "cells": [
  {
   "cell_type": "code",
   "execution_count": 1,
   "metadata": {},
   "outputs": [],
   "source": [
    "from numpy.random import seed\n",
    "import numpy as np\n",
    "seed(1)\n",
    "from tensorflow import set_random_seed\n",
    "set_random_seed(2)\n",
    "\n",
    "import tensorflow as tf\n",
    "# from tensorflow.python.keras.optimizers import Fire\n",
    "from tensorflow.python.keras.optimizers import Adam\n",
    "from tensorflow.python.keras import backend as K\n",
    "from tensorflow.python.keras import optimizers\n",
    "\n",
    "from sklearn import preprocessing\n",
    "from sklearn.neural_network import MLPClassifier\n",
    "from sklearn.neural_network import MLPRegressor\n",
    "from sklearn.metrics import log_loss\n",
    "\n",
    "import torch\n",
    "import torch.nn as nn\n",
    "import torch.nn.functional as F\n",
    "import torch.utils.data\n",
    "from torch.autograd import Variable\n",
    "\n",
    "\n",
    "import matplotlib.pyplot as plt\n",
    "%matplotlib inline"
   ]
  },
  {
   "cell_type": "markdown",
   "metadata": {},
   "source": [
    "## Preparing the input data\n"
   ]
  },
  {
   "cell_type": "code",
   "execution_count": 2,
   "metadata": {},
   "outputs": [],
   "source": [
    "#Preparing the input data\n",
    "\n",
    "#loading the MNIST dataset\n",
    "mnist = tf.keras.datasets.mnist\n",
    "\n",
    "#Separating into train and test (60000 train, 10000 test)\n",
    "(x_train, y_train0),(x_test, y_test0) = mnist.load_data()\n",
    "x_train, x_test = x_train / 255.0, x_test / 255.0\n",
    "\n",
    "#flattening the images (from 28x28 to 784)\n",
    "x_train = x_train.reshape(60000, 784)\n",
    "x_test = x_test.reshape(10000, 784)\n",
    "\n",
    "#we do not need to convert the outputs to one hot vectors.\n",
    "#Also, if we convert the output to one hot vectors, the _label_binarizer.y_type_ \n",
    "#    becomes multilabel and the out_activation_ becomes logistic\n",
    "#    Since keras and pytorch use softmax, we need to keep it like this\n",
    "# #converting the otputs (labels) into one hot vectors\n",
    "# lb = preprocessing.LabelBinarizer()\n",
    "# lb.fit(np.array([0,1,2,3,4,5,6,7,8,9]))\n",
    "# y_train = lb.transform(y_train0)\n",
    "# y_test = lb.transform(y_test0)"
   ]
  },
  {
   "cell_type": "markdown",
   "metadata": {},
   "source": [
    "## Defining the input parameters\n"
   ]
  },
  {
   "cell_type": "code",
   "execution_count": 3,
   "metadata": {},
   "outputs": [],
   "source": [
    "#Defining the input parameters\n",
    "BatchSize         = 128\n",
    "NeuronsLayer1     = 1000\n",
    "NeuronsLayer2     = 1000\n",
    "Epochs            = 25"
   ]
  },
  {
   "cell_type": "markdown",
   "metadata": {},
   "source": [
    "## Model in SKLearn"
   ]
  },
  {
   "cell_type": "code",
   "execution_count": 4,
   "metadata": {},
   "outputs": [],
   "source": [
    "# Defining the net\n",
    "# Construct our model, # Construct our loss function and an Optimizer. \n",
    "\n",
    "#MLP regressor uses the square loss\n",
    "#MLP classifier uses the log loss function\n",
    "MLP_clf =  MLPClassifier( hidden_layer_sizes         = (NeuronsLayer1,NeuronsLayer2),\n",
    "                          activation                 = 'relu',#,'identity', 'tanh', 'relu'],\n",
    "                          solver                     = 'adam',\n",
    "                          alpha                      = 0.0         ,\n",
    "                          batch_size                 = BatchSize,\n",
    "                          max_iter                   = Epochs              ,\n",
    "                          random_state               = 1234,\n",
    "                          tol                        = -10.0 ,\n",
    "                          verbose                    = True,\n",
    "                        )"
   ]
  },
  {
   "cell_type": "code",
   "execution_count": 5,
   "metadata": {},
   "outputs": [
    {
     "data": {
      "text/plain": [
       "{'activation': 'relu',\n",
       " 'alpha': 0.0,\n",
       " 'batch_size': 128,\n",
       " 'beta_1': 0.9,\n",
       " 'beta_2': 0.999,\n",
       " 'early_stopping': False,\n",
       " 'epsilon': 1e-08,\n",
       " 'hidden_layer_sizes': (1000, 1000),\n",
       " 'learning_rate': 'constant',\n",
       " 'learning_rate_init': 0.001,\n",
       " 'max_iter': 25,\n",
       " 'momentum': 0.9,\n",
       " 'n_iter_no_change': 10,\n",
       " 'nesterovs_momentum': True,\n",
       " 'power_t': 0.5,\n",
       " 'random_state': 1234,\n",
       " 'shuffle': True,\n",
       " 'solver': 'adam',\n",
       " 'tol': -10.0,\n",
       " 'validation_fraction': 0.1,\n",
       " 'verbose': True,\n",
       " 'warm_start': False}"
      ]
     },
     "execution_count": 5,
     "metadata": {},
     "output_type": "execute_result"
    }
   ],
   "source": [
    "#Show aprameters of the network\n",
    "MLP_clf.get_params()"
   ]
  },
  {
   "cell_type": "code",
   "execution_count": 6,
   "metadata": {},
   "outputs": [
    {
     "name": "stdout",
     "output_type": "stream",
     "text": [
      "Iteration 1, loss = 0.19500175\n",
      "Iteration 2, loss = 0.07165559\n",
      "Iteration 3, loss = 0.04823517\n",
      "Iteration 4, loss = 0.03266466\n",
      "Iteration 5, loss = 0.02878252\n",
      "Iteration 6, loss = 0.02410665\n",
      "Iteration 7, loss = 0.01839112\n",
      "Iteration 8, loss = 0.01573355\n",
      "Iteration 9, loss = 0.01253545\n",
      "Iteration 10, loss = 0.01622997\n",
      "Iteration 11, loss = 0.01230473\n",
      "Iteration 12, loss = 0.01403529\n",
      "Iteration 13, loss = 0.01092736\n",
      "Iteration 14, loss = 0.01155850\n",
      "Iteration 15, loss = 0.00992351\n",
      "Iteration 16, loss = 0.00809584\n",
      "Iteration 17, loss = 0.01204986\n",
      "Iteration 18, loss = 0.00789744\n",
      "Iteration 19, loss = 0.00601141\n",
      "Iteration 20, loss = 0.00783356\n",
      "Iteration 21, loss = 0.01148661\n",
      "Iteration 22, loss = 0.00797649\n",
      "Iteration 23, loss = 0.00701627\n",
      "Iteration 24, loss = 0.00650190\n",
      "Iteration 25, loss = 0.00791462\n"
     ]
    },
    {
     "name": "stderr",
     "output_type": "stream",
     "text": [
      "C:\\Users\\zb0857\\AppData\\Local\\Continuum\\anaconda3\\envs\\ML\\lib\\site-packages\\sklearn\\neural_network\\multilayer_perceptron.py:566: ConvergenceWarning: Stochastic Optimizer: Maximum iterations (25) reached and the optimization hasn't converged yet.\n",
      "  % self.max_iter, ConvergenceWarning)\n"
     ]
    },
    {
     "data": {
      "text/plain": [
       "MLPClassifier(activation='relu', alpha=0.0, batch_size=128, beta_1=0.9,\n",
       "              beta_2=0.999, early_stopping=False, epsilon=1e-08,\n",
       "              hidden_layer_sizes=(1000, 1000), learning_rate='constant',\n",
       "              learning_rate_init=0.001, max_iter=25, momentum=0.9,\n",
       "              n_iter_no_change=10, nesterovs_momentum=True, power_t=0.5,\n",
       "              random_state=1234, shuffle=True, solver='adam', tol=-10.0,\n",
       "              validation_fraction=0.1, verbose=True, warm_start=False)"
      ]
     },
     "execution_count": 6,
     "metadata": {},
     "output_type": "execute_result"
    }
   ],
   "source": [
    "#train the network\n",
    "\n",
    "MLP_clf.fit(x_train, y_train0)\n"
   ]
  },
  {
   "cell_type": "code",
   "execution_count": 7,
   "metadata": {},
   "outputs": [
    {
     "data": {
      "text/plain": [
       "0.007285562435474549"
      ]
     },
     "execution_count": 7,
     "metadata": {},
     "output_type": "execute_result"
    }
   ],
   "source": [
    "#Predicting\n",
    "\n",
    "y_train_hat_clf_sk = MLP_clf.predict_proba(x_train)\n",
    "\n",
    "log_loss(y_train0, y_train_hat_clf_sk)"
   ]
  },
  {
   "cell_type": "code",
   "execution_count": 8,
   "metadata": {},
   "outputs": [
    {
     "name": "stdout",
     "output_type": "stream",
     "text": [
      "5\n",
      "0\n"
     ]
    }
   ],
   "source": [
    "print(y_train0[0])\n",
    "print(y_train0[1])"
   ]
  },
  {
   "cell_type": "code",
   "execution_count": 9,
   "metadata": {},
   "outputs": [
    {
     "name": "stdout",
     "output_type": "stream",
     "text": [
      "[7.16186569e-24 2.05621378e-21 1.99964360e-25 9.74378777e-05\n",
      " 2.46088926e-37 9.99902562e-01 3.35356091e-24 3.07998752e-29\n",
      " 1.85322114e-24 1.55024347e-21]\n",
      "[1.00000000e+00 1.12558427e-41 2.33222158e-27 2.43990457e-37\n",
      " 2.95377360e-43 1.99658799e-40 6.59238665e-32 2.82479268e-44\n",
      " 1.11290895e-36 8.57119235e-30]\n"
     ]
    }
   ],
   "source": [
    "print(y_train_hat_clf_sk[0])\n",
    "print(y_train_hat_clf_sk[1])"
   ]
  },
  {
   "cell_type": "code",
   "execution_count": 10,
   "metadata": {},
   "outputs": [
    {
     "name": "stdout",
     "output_type": "stream",
     "text": [
      "Number of Layers:  3\n",
      "Weights layer 1:  785000\n",
      "Weights layer 2:  1001000\n",
      "Weights layer 3:  10010\n"
     ]
    }
   ],
   "source": [
    "#Show aprameters of the network\n",
    "\n",
    "print(\"Number of Layers: \", len(MLP_clf.coefs_))\n",
    "print(\"Weights layer 1: \", MLP_clf.coefs_[0].size+MLP_clf.intercepts_[0].size)\n",
    "print(\"Weights layer 2: \", MLP_clf.coefs_[1].size+MLP_clf.intercepts_[1].size)\n",
    "print(\"Weights layer 3: \", MLP_clf.coefs_[2].size+MLP_clf.intercepts_[2].size)\n"
   ]
  },
  {
   "cell_type": "code",
   "execution_count": 11,
   "metadata": {},
   "outputs": [
    {
     "name": "stdout",
     "output_type": "stream",
     "text": [
      "softmax\n",
      "multiclass\n"
     ]
    }
   ],
   "source": [
    "print(MLP_clf.out_activation_)\n",
    "print(MLP_clf._label_binarizer.y_type_)\n"
   ]
  },
  {
   "cell_type": "code",
   "execution_count": 12,
   "metadata": {},
   "outputs": [
    {
     "data": {
      "text/plain": [
       "<matplotlib.legend.Legend at 0x1709ac369e8>"
      ]
     },
     "execution_count": 12,
     "metadata": {},
     "output_type": "execute_result"
    },
    {
     "data": {
      "image/png": "[encoded data removed]",
      "text/plain": [
       "<Figure size 432x288 with 1 Axes>"
      ]
     },
     "metadata": {
      "needs_background": "light"
     },
     "output_type": "display_data"
    }
   ],
   "source": [
    "fig, ax = plt.subplots(1,1)\n",
    "ax.set_yscale('log')\n",
    "ax.plot(MLP_clf.loss_curve_, label=\"SciKitLearn\")\n",
    "ax.legend()"
   ]
  },
  {
   "cell_type": "code",
   "execution_count": null,
   "metadata": {},
   "outputs": [],
   "source": []
  }
 ],
 "metadata": {
  "kernelspec": {
   "display_name": "Python 3",
   "language": "python",
   "name": "python3"
  },
  "language_info": {
   "codemirror_mode": {
    "name": "ipython",
    "version": 3
   },
   "file_extension": ".py",
   "mimetype": "text/x-python",
   "name": "python",
   "nbconvert_exporter": "python",
   "pygments_lexer": "ipython3",
   "version": "3.6.8"
  }
 },
 "nbformat": 4,
 "nbformat_minor": 2
}
