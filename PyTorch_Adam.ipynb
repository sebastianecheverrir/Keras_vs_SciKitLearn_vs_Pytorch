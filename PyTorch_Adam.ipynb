{
 "cells": [
  {
   "cell_type": "code",
   "execution_count": 1,
   "metadata": {},
   "outputs": [],
   "source": [
    "from numpy.random import seed\n",
    "import numpy as np\n",
    "seed(1)\n",
    "from tensorflow import set_random_seed\n",
    "set_random_seed(2)\n",
    "\n",
    "import tensorflow as tf\n",
    "# from tensorflow.python.keras.optimizers import Fire\n",
    "from tensorflow.python.keras.optimizers import Adam\n",
    "from tensorflow.python.keras import backend as K\n",
    "from tensorflow.python.keras import optimizers\n",
    "\n",
    "from sklearn import preprocessing\n",
    "from sklearn.neural_network import MLPClassifier\n",
    "from sklearn.neural_network import MLPRegressor\n",
    "from sklearn.metrics import log_loss\n",
    "\n",
    "import torch\n",
    "import torch.nn as nn\n",
    "import torch.nn.functional as F\n",
    "import torch.utils.data\n",
    "from torch.autograd import Variable\n",
    "from torchsummary import summary\n",
    "\n",
    "\n",
    "import matplotlib.pyplot as plt\n",
    "%matplotlib inline\n"
   ]
  },
  {
   "cell_type": "markdown",
   "metadata": {},
   "source": [
    "## Preparing the input data"
   ]
  },
  {
   "cell_type": "code",
   "execution_count": 2,
   "metadata": {},
   "outputs": [],
   "source": [
    "#Preparing the input data\n",
    "\n",
    "#loading the MNIST dataset\n",
    "mnist = tf.keras.datasets.mnist\n",
    "\n",
    "#Separating into train and test (60000 train, 10000 test)\n",
    "(x_train, y_train0),(x_test, y_test0) = mnist.load_data()\n",
    "x_train, x_test = x_train / 255.0, x_test / 255.0\n",
    "\n",
    "#flattening the images (from 28x28 to 784)\n",
    "x_train = x_train.reshape(60000, 784)\n",
    "x_test = x_test.reshape(10000, 784)\n",
    "\n",
    "\n",
    "#converting the otputs (labels) into one hot vectors\n",
    "lb = preprocessing.LabelBinarizer()\n",
    "lb.fit(np.array([0,1,2,3,4,5,6,7,8,9]))\n",
    "y_train = lb.transform(y_train0)\n",
    "y_test = lb.transform(y_test0)\n"
   ]
  },
  {
   "cell_type": "markdown",
   "metadata": {},
   "source": [
    "## Defining the input parameters\n"
   ]
  },
  {
   "cell_type": "code",
   "execution_count": 3,
   "metadata": {},
   "outputs": [],
   "source": [
    "#Defining the input parameters\n",
    "BatchSize         = 500\n",
    "NeuronsLayer1     = 100\n",
    "NeuronsLayer2     = 100\n",
    "Epochs            = 100"
   ]
  },
  {
   "cell_type": "markdown",
   "metadata": {},
   "source": [
    "## PyTorch"
   ]
  },
  {
   "cell_type": "code",
   "execution_count": 4,
   "metadata": {},
   "outputs": [],
   "source": [
    "# Create Tensors to hold inputs and outputs\n",
    "\n",
    "torch_X_train = torch.from_numpy(x_train)\n",
    "torch_y_train = torch.from_numpy(y_train)\n",
    "\n",
    "#the trainloader helps us deal with the batches\n",
    "train = torch.utils.data.TensorDataset(torch_X_train.float(),torch_y_train.float())\n",
    "train_loader = torch.utils.data.DataLoader(train, batch_size = BatchSize, shuffle = False)\n"
   ]
  },
  {
   "cell_type": "code",
   "execution_count": 5,
   "metadata": {},
   "outputs": [],
   "source": [
    "# Defining the net\n",
    "\n",
    "class MLP(nn.Module):\n",
    "    def __init__(self):\n",
    "        super(MLP, self).__init__()\n",
    "        self.linear1 = nn.Linear(784,NeuronsLayer1)\n",
    "        self.linear2 = nn.Linear(NeuronsLayer1,NeuronsLayer2)\n",
    "        self.linear3 = nn.Linear(NeuronsLayer2,10)\n",
    "    \n",
    "    def forward(self,X):\n",
    "        X = F.relu(self.linear1(X))\n",
    "        X = F.relu(self.linear2(X))\n",
    "        X = F.softmax(self.linear3(X), dim=1)\n",
    "        return X\n",
    "\n"
   ]
  },
  {
   "cell_type": "code",
   "execution_count": 6,
   "metadata": {},
   "outputs": [],
   "source": [
    "# Construct our model by instantiating the class defined above.\n",
    "model = MLP()\n",
    "\n",
    "\n",
    "# Construct our loss function and an Optimizer. \n",
    "\n",
    "#it seems that cateorical cross-entropy is not available in pytorch. We have to make or own\n",
    "#    implementation of the loss function\n",
    "#https://datascience.stackexchange.com/questions/55962/pytorch-doing-a-cross-entropy-loss-when-the-predictions-already-have-probabiliti\n",
    "def categorical_cross_entropy(y_pred, y_true):\n",
    "    y_pred = torch.clamp(y_pred, 1e-9, 1 - 1e-9)\n",
    "    return -(y_true * torch.log(y_pred)).sum(dim=1).mean()\n",
    "\n",
    "optimizer = torch.optim.Adam(model.parameters())\n"
   ]
  },
  {
   "cell_type": "code",
   "execution_count": 7,
   "metadata": {},
   "outputs": [
    {
     "data": {
      "text/plain": [
       "<bound method Module.parameters of MLP(\n",
       "  (linear1): Linear(in_features=784, out_features=100, bias=True)\n",
       "  (linear2): Linear(in_features=100, out_features=100, bias=True)\n",
       "  (linear3): Linear(in_features=100, out_features=10, bias=True)\n",
       ")>"
      ]
     },
     "execution_count": 7,
     "metadata": {},
     "output_type": "execute_result"
    }
   ],
   "source": [
    "#Show aprameters of the network\n",
    "model.parameters"
   ]
  },
  {
   "cell_type": "code",
   "execution_count": 8,
   "metadata": {},
   "outputs": [
    {
     "name": "stdout",
     "output_type": "stream",
     "text": [
      "1 0.2693708837032318 0.743281010662516\n",
      "2 0.21981947124004364 0.2772692972794175\n",
      "3 0.19280613958835602 0.2158559529731671\n",
      "4 0.17550921440124512 0.1791273138175408\n",
      "5 0.16534960269927979 0.1535166815544168\n",
      "6 0.15742802619934082 0.13422945123165847\n",
      "7 0.14997263252735138 0.11879941740383705\n",
      "8 0.14199405908584595 0.10619592033326626\n",
      "9 0.13392777740955353 0.09573884656031927\n",
      "10 0.1260603666305542 0.08651566961780191\n",
      "11 0.11908599734306335 0.07860302540163198\n",
      "12 0.1111280545592308 0.0715199768388023\n",
      "13 0.10289566218852997 0.06518746381625533\n",
      "14 0.0940386950969696 0.05967147024348378\n",
      "15 0.08516008406877518 0.0546204901766032\n",
      "16 0.07843393087387085 0.04993509304088851\n",
      "17 0.07150780409574509 0.04575526515642802\n",
      "18 0.06507837772369385 0.04206505216037234\n",
      "19 0.0596977099776268 0.038715300639159976\n",
      "20 0.05255799740552902 0.03564774300903082\n",
      "21 0.046331822872161865 0.032808993097084266\n",
      "22 0.03918847441673279 0.030123332538641988\n",
      "23 0.0335158035159111 0.02770062449077765\n",
      "24 0.027444036677479744 0.025455722790987543\n",
      "25 0.021598124876618385 0.02337244200753048\n",
      "26 0.018717365339398384 0.02134388591318081\n",
      "27 0.01790914498269558 0.01971600472073381\n",
      "28 0.016962062567472458 0.01891101636768629\n",
      "29 0.016336752101778984 0.018789293011650443\n",
      "30 0.014298147521913052 0.01917228503152728\n",
      "31 0.012909340672194958 0.0178227165248245\n",
      "32 0.01605314202606678 0.01635579343031471\n",
      "33 0.008235600776970387 0.014852761126045758\n",
      "34 0.00832899659872055 0.014515087020117789\n",
      "35 0.010262101888656616 0.014020589459687472\n",
      "36 0.008272740989923477 0.014209113469890629\n",
      "37 0.0088179437443614 0.013770677162877594\n",
      "38 0.013327054679393768 0.01306511420601358\n",
      "39 0.01352508645504713 0.009202250265904393\n",
      "40 0.007511603645980358 0.007674341180245392\n",
      "41 0.004939643666148186 0.005729513689099501\n",
      "42 0.004908241797238588 0.004917789209381833\n",
      "43 0.002991407411172986 0.004035165649838746\n",
      "44 0.0032580022234469652 0.0031109141525424394\n",
      "45 0.0021145243663340807 0.002569649689879346\n",
      "46 0.0020475396886467934 0.0023002261771277216\n",
      "47 0.0018285887781530619 0.0021201600808126385\n",
      "48 0.001542015466839075 0.0018873542686681807\n",
      "49 0.00112057919614017 0.001774566845294127\n",
      "50 0.0008620095904916525 0.0015759376947850493\n",
      "51 0.0008708484820090234 0.0014023459217545073\n",
      "52 0.0007335058180615306 0.0012830471553267368\n",
      "53 0.0016151323216035962 0.0013071076270231667\n",
      "54 0.0015369426691904664 0.001334141506110124\n",
      "55 0.0006981374463066459 0.0013191724688416191\n",
      "56 0.0004319963336456567 0.001049277570200502\n",
      "57 0.0004130586457904428 0.0008702040078181502\n",
      "58 0.0005812591407448053 0.0007226817908910258\n",
      "59 0.00042113912058994174 0.0008192425844147995\n",
      "60 0.0017760114278644323 0.0015629084210862251\n",
      "61 0.026340430602431297 0.017860572779318316\n",
      "62 0.005040442105382681 0.0189234209159622\n",
      "63 0.0066065494902431965 0.010334340400974421\n",
      "64 0.0006805842276662588 0.003400872549051807\n",
      "65 0.00040971385897137225 0.001248462021552162\n",
      "66 0.00035502869286574423 0.0009388698505669405\n",
      "67 0.0002866984286811203 0.0006245534582679587\n",
      "68 0.00025019023451022804 0.0004252970627021568\n",
      "69 0.00022185184934642166 0.0003526791898366355\n",
      "70 0.00020060832321178168 0.00029874756285911037\n",
      "71 0.00018495673430152237 0.00026487012028155734\n",
      "72 0.00017074981587938964 0.00023960086852336341\n",
      "73 0.00015963926853146404 0.00021886578427559772\n",
      "74 0.00014901303802616894 0.000202619667682787\n",
      "75 0.00014097403618507087 0.00018838402268859985\n",
      "76 0.00013366495841182768 0.00017600425004881496\n",
      "77 0.0001270203647436574 0.0001648391064918542\n",
      "78 0.00012094566773157567 0.00015486856248874876\n",
      "79 0.00011600975994952023 0.00014588596335064115\n",
      "80 0.00011057995288865641 0.00013776923760815406\n",
      "81 0.00010563195974100381 0.00012999328085546344\n",
      "82 0.00010070580174215138 0.00012285189723115764\n",
      "83 9.515550482319668e-05 0.00011600873249335563\n",
      "84 9.049305663211271e-05 0.00010984679599156759\n",
      "85 8.606523624621332e-05 0.00010391655849465073\n",
      "86 8.198139403248206e-05 9.830296974845017e-05\n",
      "87 7.74158033891581e-05 9.311357633426573e-05\n",
      "88 7.334027759497985e-05 8.81762914104911e-05\n",
      "89 6.965229113120586e-05 8.349663886898876e-05\n",
      "90 6.574951112270355e-05 7.905926575707175e-05\n",
      "91 6.214982568053529e-05 7.482643742757015e-05\n",
      "92 5.885697464691475e-05 7.08753749980436e-05\n",
      "93 5.572440932155587e-05 6.70582913699036e-05\n",
      "94 5.2672650781460106e-05 6.352770269586472e-05\n",
      "95 5.012789188185707e-05 6.0149979041549766e-05\n",
      "96 4.722182347904891e-05 5.68775143771442e-05\n",
      "97 4.456619353732094e-05 5.378295228031978e-05\n",
      "98 4.248509503668174e-05 5.087420452885756e-05\n",
      "99 3.9662882045377046e-05 4.805148475952592e-05\n",
      "100 3.7892019463470206e-05 4.538110889219145e-05\n"
     ]
    }
   ],
   "source": [
    "#train the network\n",
    "\n",
    "loss_history = []\n",
    "for epoch in range(Epochs):\n",
    "    loss_avg = 0.0\n",
    "    N_elements = 0\n",
    "    for batch_idx, (X_batch, y_batch) in enumerate(train_loader):\n",
    "        # Forward pass: Compute predicted y by passing x to the model\n",
    "        y_pred = model(X_batch)\n",
    "\n",
    "        # Compute loss\n",
    "        loss = categorical_cross_entropy(y_pred, y_batch)\n",
    "\n",
    "        # Zero gradients, perform a backward pass, and update the weights.\n",
    "        optimizer.zero_grad()\n",
    "        loss.backward()\n",
    "        optimizer.step()\n",
    "        loss_avg += loss.item()*X_batch.size()[0]\n",
    "        N_elements += X_batch.size()[0]\n",
    "\n",
    "    # print loss after each epoch    \n",
    "    print(epoch+1, loss.item(), loss_avg/N_elements)\n",
    "    loss_history.append(loss_avg/N_elements)\n"
   ]
  },
  {
   "cell_type": "code",
   "execution_count": 9,
   "metadata": {},
   "outputs": [
    {
     "name": "stdout",
     "output_type": "stream",
     "text": [
      "4.9600766990670783e-05\n"
     ]
    }
   ],
   "source": [
    "#Predicting\n",
    "y_train_hat_Pytorch = model(torch_X_train.float()).detach().numpy()\n",
    "\n",
    "print(log_loss(y_train, y_train_hat_Pytorch))\n",
    "# print(categorical_cross_entropy(torch.from_numpy(y_train).float(), torch.from_numpy(y_train_hat_Pytorch)))"
   ]
  },
  {
   "cell_type": "code",
   "execution_count": 10,
   "metadata": {},
   "outputs": [
    {
     "name": "stdout",
     "output_type": "stream",
     "text": [
      "[0 0 0 0 0 1 0 0 0 0]\n",
      "[1 0 0 0 0 0 0 0 0 0]\n"
     ]
    }
   ],
   "source": [
    "print(y_train[0])\n",
    "print(y_train[1])"
   ]
  },
  {
   "cell_type": "code",
   "execution_count": 11,
   "metadata": {},
   "outputs": [
    {
     "name": "stdout",
     "output_type": "stream",
     "text": [
      "[2.1013711e-31 4.1455269e-23 1.5996665e-20 6.6180510e-05 0.0000000e+00\n",
      " 9.9993384e-01 1.8145858e-32 1.0823392e-27 2.8055580e-32 3.1600519e-21]\n",
      "[1.0000000e+00 5.4496440e-35 9.2110968e-16 6.1589742e-28 2.9754415e-39\n",
      " 3.3539346e-27 2.4967089e-24 8.7443980e-26 2.3347575e-30 1.7749837e-23]\n"
     ]
    }
   ],
   "source": [
    "print(y_train_hat_Pytorch[0])\n",
    "print(y_train_hat_Pytorch[1])"
   ]
  },
  {
   "cell_type": "code",
   "execution_count": 12,
   "metadata": {},
   "outputs": [
    {
     "name": "stdout",
     "output_type": "stream",
     "text": [
      "----------------------------------------------------------------\n",
      "        Layer (type)               Output Shape         Param #\n",
      "================================================================\n",
      "            Linear-1               [-1, 1, 100]          78,500\n",
      "            Linear-2               [-1, 1, 100]          10,100\n",
      "            Linear-3                [-1, 1, 10]           1,010\n",
      "================================================================\n",
      "Total params: 89,610\n",
      "Trainable params: 89,610\n",
      "Non-trainable params: 0\n",
      "----------------------------------------------------------------\n",
      "Input size (MB): 0.00\n",
      "Forward/backward pass size (MB): 0.00\n",
      "Params size (MB): 0.34\n",
      "Estimated Total Size (MB): 0.35\n",
      "----------------------------------------------------------------\n"
     ]
    }
   ],
   "source": [
    "#Show aprameters of the network\n",
    "\n",
    "summary(model, (1, 784))"
   ]
  },
  {
   "cell_type": "code",
   "execution_count": 13,
   "metadata": {},
   "outputs": [
    {
     "data": {
      "text/plain": [
       "<matplotlib.legend.Legend at 0x16bd6638c18>"
      ]
     },
     "execution_count": 13,
     "metadata": {},
     "output_type": "execute_result"
    },
    {
     "data": {
      "image/png": "[encoded data removed]",
      "text/plain": [
       "<Figure size 432x288 with 1 Axes>"
      ]
     },
     "metadata": {
      "needs_background": "light"
     },
     "output_type": "display_data"
    }
   ],
   "source": [
    "fig, ax = plt.subplots(1,1)\n",
    "ax.plot(loss_history, label=\"PyTorch\")\n",
    "ax.legend()\n",
    "\n"
   ]
  }
 ],
 "metadata": {
  "kernelspec": {
   "display_name": "Python 3",
   "language": "python",
   "name": "python3"
  },
  "language_info": {
   "codemirror_mode": {
    "name": "ipython",
    "version": 3
   },
   "file_extension": ".py",
   "mimetype": "text/x-python",
   "name": "python",
   "nbconvert_exporter": "python",
   "pygments_lexer": "ipython3",
   "version": "3.6.8"
  }
 },
 "nbformat": 4,
 "nbformat_minor": 2
}
