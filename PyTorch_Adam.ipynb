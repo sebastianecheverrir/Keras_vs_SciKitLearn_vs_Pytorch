{
 "cells": [
  {
   "cell_type": "code",
   "execution_count": 1,
   "metadata": {},
   "outputs": [],
   "source": [
    "#in my Windows the optimizers are located in\n",
    "#/c/Users/zb0857/AppData/Local/Continuum/anaconda2/envs/Tensorflow/lib/site-packages/tensorflow/python/keras\n",
    "#C:\\Users\\zb0857\\AppData\\Local\\Continuum\\anaconda3\\envs\\ML\\Lib\\site-packages\\tensorflow\\python\\keras\n",
    "#/c/Users/zb0857/AppData/Local/Continuum/anaconda2/envs/Tensorflow/lib/site-packages/sklearn/neural_network\n",
    "#C:\\Users\\zb0857\\AppData\\Local\\Continuum\\anaconda3\\envs\\ML\\Lib\\site-packages\\sklearn\\neural_network\n",
    "#rememmber to start the notebook using the environment tensorflow\n",
    "\n",
    "\n",
    "from numpy.random import seed\n",
    "import numpy as np\n",
    "seed(1)\n",
    "from tensorflow import set_random_seed\n",
    "set_random_seed(2)\n",
    "\n",
    "import tensorflow as tf\n",
    "# from tensorflow.python.keras.optimizers import Fire\n",
    "from tensorflow.python.keras.optimizers import Adam\n",
    "from tensorflow.python.keras import backend as K\n",
    "from tensorflow.python.keras import optimizers\n",
    "\n",
    "from sklearn import preprocessing\n",
    "from sklearn.neural_network import MLPClassifier\n",
    "from sklearn.neural_network import MLPRegressor\n",
    "from sklearn.metrics import log_loss\n",
    "\n",
    "import torch\n",
    "import torch.nn as nn\n",
    "import torch.nn.functional as F\n",
    "import torch.utils.data\n",
    "from torch.autograd import Variable\n",
    "from torchsummary import summary\n",
    "\n",
    "\n",
    "import matplotlib.pyplot as plt\n",
    "%matplotlib inline\n",
    "\n",
    "\n",
    "#it seems that cateorical cross-entropy is not available in pytorch. We have to make or own\n",
    "#    implementation of the loss function\n",
    "#https://datascience.stackexchange.com/questions/55962/pytorch-doing-a-cross-entropy-loss-when-the-predictions-already-have-probabiliti\n",
    "def categorical_cross_entropy(y_pred, y_true):\n",
    "    y_pred = torch.clamp(y_pred, 1e-9, 1 - 1e-9)\n",
    "    return -(y_true * torch.log(y_pred)).sum(dim=1).mean()\n"
   ]
  },
  {
   "cell_type": "markdown",
   "metadata": {},
   "source": [
    "### CrossEntropyLoss\n",
    "$\\text{loss}(x, class) = -\\log\\left(\\frac{\\exp(x[class])}{\\sum_j \\exp(x[j])}\\right)$\n",
    "                       $= -x[class] + \\log\\left(\\sum_j \\exp(x[j])\\right)$\n",
    "                       \n",
    "                       \n",
    "        nll_loss(log_softmax(input, 1),\n",
    "\n",
    "\n",
    "### Softmax\n",
    "$\\text{Softmax}(x_{i}) = \\frac{\\exp(x_i)}{\\sum_j \\exp(x_j)}$"
   ]
  },
  {
   "cell_type": "markdown",
   "metadata": {},
   "source": [
    "## Preparing the input data"
   ]
  },
  {
   "cell_type": "code",
   "execution_count": 2,
   "metadata": {},
   "outputs": [],
   "source": [
    "#Preparing the input data\n",
    "\n",
    "#loading the MNIST dataset\n",
    "mnist = tf.keras.datasets.mnist\n",
    "\n",
    "#Separating into train and test (60000 train, 10000 test)\n",
    "(x_train, y_train0),(x_test, y_test0) = mnist.load_data()\n",
    "x_train, x_test = x_train / 255.0, x_test / 255.0\n",
    "\n",
    "#flattening the images (from 28x28 to 784)\n",
    "x_train = x_train.reshape(60000, 784)\n",
    "x_test = x_test.reshape(10000, 784)\n",
    "\n",
    "\n",
    "#converting the otputs (labels) into one hot vectors\n",
    "lb = preprocessing.LabelBinarizer()\n",
    "lb.fit(np.array([0,1,2,3,4,5,6,7,8,9]))\n",
    "y_train = lb.transform(y_train0)\n",
    "y_test = lb.transform(y_test0)\n"
   ]
  },
  {
   "cell_type": "markdown",
   "metadata": {},
   "source": [
    "## Defining the input parameters\n"
   ]
  },
  {
   "cell_type": "code",
   "execution_count": 3,
   "metadata": {},
   "outputs": [],
   "source": [
    "#Defining the input parameters\n",
    "BatchSize         = 5001\n",
    "NeuronsLayer1     = 100\n",
    "NeuronsLayer2     = 100\n",
    "Epochs            = 100"
   ]
  },
  {
   "cell_type": "markdown",
   "metadata": {},
   "source": [
    "## Torch by me\n",
    "https://stackoverflow.com/questions/51041128/pytorch-predict-single-example"
   ]
  },
  {
   "cell_type": "code",
   "execution_count": 4,
   "metadata": {},
   "outputs": [],
   "source": [
    "# Create Tensors to hold inputs and outputs\n",
    "\n",
    "torch_X_train = torch.from_numpy(x_train)\n",
    "torch_y_train = torch.from_numpy(y_train)\n",
    "\n",
    "#the trainloader helps us deal with the batches\n",
    "train = torch.utils.data.TensorDataset(torch_X_train.float(),torch_y_train.float())\n",
    "train_loader = torch.utils.data.DataLoader(train, batch_size = BatchSize, shuffle = False)\n"
   ]
  },
  {
   "cell_type": "code",
   "execution_count": 5,
   "metadata": {},
   "outputs": [],
   "source": [
    "# Defining the net\n",
    "\n",
    "class MLP(nn.Module):\n",
    "    def __init__(self):\n",
    "        super(MLP, self).__init__()\n",
    "        self.linear1 = nn.Linear(784,NeuronsLayer1)\n",
    "        self.linear2 = nn.Linear(NeuronsLayer1,NeuronsLayer2)\n",
    "        self.linear3 = nn.Linear(NeuronsLayer2,10)\n",
    "    \n",
    "    def forward(self,X):\n",
    "        X = F.relu(self.linear1(X))\n",
    "        X = F.relu(self.linear2(X))\n",
    "        X = F.softmax(self.linear3(X), dim=1)\n",
    "        return X\n",
    "\n"
   ]
  },
  {
   "cell_type": "code",
   "execution_count": 6,
   "metadata": {},
   "outputs": [],
   "source": [
    "# Construct our model by instantiating the class defined above.\n",
    "model = MLP()\n",
    "\n",
    "\n",
    "# Construct our loss function and an Optimizer. \n",
    "\n",
    "# loss_fn = torch.nn.CrossEntropyLoss()\n",
    "# loss_fn = torch.nn.NLLLoss()\n",
    "# loss_fn = categorical_cross_entropy()\n",
    "\n",
    "\n",
    "\n",
    "\n",
    "optimizer = torch.optim.Adam(model.parameters())\n"
   ]
  },
  {
   "cell_type": "code",
   "execution_count": 7,
   "metadata": {},
   "outputs": [
    {
     "data": {
      "text/plain": [
       "<bound method Module.parameters of MLP(\n",
       "  (linear1): Linear(in_features=784, out_features=100, bias=True)\n",
       "  (linear2): Linear(in_features=100, out_features=100, bias=True)\n",
       "  (linear3): Linear(in_features=100, out_features=10, bias=True)\n",
       ")>"
      ]
     },
     "execution_count": 7,
     "metadata": {},
     "output_type": "execute_result"
    }
   ],
   "source": [
    "#Show aprameters of the network\n",
    "model.parameters"
   ]
  },
  {
   "cell_type": "code",
   "execution_count": 8,
   "metadata": {},
   "outputs": [
    {
     "name": "stdout",
     "output_type": "stream",
     "text": [
      "1 1.8877276182174683 2.138044710367918\n",
      "2 1.0910639762878418 1.4977989894151689\n",
      "3 0.5648119449615479 0.8336560871720314\n",
      "4 0.37355950474739075 0.5288091844707727\n",
      "5 0.2989003360271454 0.40891184291541577\n",
      "6 0.26382187008857727 0.3538558956176043\n",
      "7 0.24197864532470703 0.322876588653028\n",
      "8 0.22592459619045258 0.30146088517978786\n",
      "9 0.21202228963375092 0.2842290604971349\n",
      "10 0.19978363811969757 0.26877525778636335\n",
      "11 0.18842540681362152 0.2542997420862317\n",
      "12 0.178266242146492 0.2409885154530406\n",
      "13 0.16919775307178497 0.22890346293002367\n",
      "14 0.1609673798084259 0.2180521119400859\n",
      "15 0.15359985828399658 0.20820084008723497\n",
      "16 0.14685335755348206 0.19922653412297367\n",
      "17 0.14064788818359375 0.19092760793417693\n",
      "18 0.13503488898277283 0.18320128841996192\n",
      "19 0.12974883615970612 0.17600930392742156\n",
      "20 0.12490682303905487 0.1692719907581806\n",
      "21 0.12005312740802765 0.16285710370093584\n",
      "22 0.1158127710223198 0.15695151069872082\n",
      "23 0.11181022971868515 0.1513291599806398\n",
      "24 0.10798235237598419 0.14607764339596033\n",
      "25 0.1044822633266449 0.14106937074139714\n",
      "26 0.10108965635299683 0.13636285191997885\n",
      "27 0.09796615689992905 0.13191131584011018\n",
      "28 0.09505527466535568 0.12769529470801352\n",
      "29 0.0922873243689537 0.12369021870046853\n",
      "30 0.08967429399490356 0.11988524452000857\n",
      "31 0.08723624050617218 0.11625520996451377\n",
      "32 0.08490690588951111 0.1127771038711071\n",
      "33 0.0827588364481926 0.10944995413944125\n",
      "34 0.08061791211366653 0.10627421539351344\n",
      "35 0.07858534157276154 0.103210129224509\n",
      "36 0.07669169455766678 0.1002656762752682\n",
      "37 0.07484185695648193 0.09744335214011371\n",
      "38 0.07299409061670303 0.09471129203923047\n",
      "39 0.07130634784698486 0.09209284463301301\n",
      "40 0.06971631199121475 0.08956904320269823\n",
      "41 0.06810660660266876 0.08715157185122371\n",
      "42 0.066571906208992 0.0848423833373934\n",
      "43 0.0650746151804924 0.0825994294192642\n",
      "44 0.06367630511522293 0.08043557868674397\n",
      "45 0.06226935237646103 0.07835064773261548\n",
      "46 0.06087334454059601 0.07634308385066688\n",
      "47 0.05943978205323219 0.07440851399172098\n",
      "48 0.0580327995121479 0.07253171565253287\n",
      "49 0.056563086807727814 0.07070928836818785\n",
      "50 0.05522749945521355 0.06896680429261177\n",
      "51 0.053849250078201294 0.06724844582378864\n",
      "52 0.05245036259293556 0.06555707853566856\n",
      "53 0.051109008491039276 0.06394296218901872\n",
      "54 0.049769096076488495 0.062364966672286394\n",
      "55 0.04849526658654213 0.06083424319066107\n",
      "56 0.04718649759888649 0.05930170280262828\n",
      "57 0.04599994793534279 0.05781252951547503\n",
      "58 0.04481172189116478 0.056340440435707566\n",
      "59 0.0437273308634758 0.05489047007001936\n",
      "60 0.04263196513056755 0.05345608138460666\n",
      "61 0.04163817688822746 0.052052560595795515\n",
      "62 0.040717754513025284 0.05067840895913541\n",
      "63 0.039841875433921814 0.04934656592886895\n",
      "64 0.03892992064356804 0.04801427025888115\n",
      "65 0.03813702240586281 0.04673202341422439\n",
      "66 0.03728872537612915 0.045494240493141117\n",
      "67 0.036534231156110764 0.04428298650290817\n",
      "68 0.035645145922899246 0.04308579292204231\n",
      "69 0.03480919823050499 0.041923491107858715\n",
      "70 0.03398679941892624 0.040783810449577865\n",
      "71 0.03312812000513077 0.039699056945554916\n",
      "72 0.032280996441841125 0.0386442236782983\n",
      "73 0.031455568969249725 0.03760735860336572\n",
      "74 0.03060181438922882 0.036620953283365815\n",
      "75 0.029765399172902107 0.035647758879885076\n",
      "76 0.02901013195514679 0.03471286741541699\n",
      "77 0.028209341689944267 0.03382459682635963\n",
      "78 0.027414560317993164 0.03292605204554275\n",
      "79 0.02660386823117733 0.03206683611078188\n",
      "80 0.025892416015267372 0.03123352095875889\n",
      "81 0.025149324908852577 0.03043577900500968\n",
      "82 0.024485908448696136 0.029648221914377063\n",
      "83 0.023898959159851074 0.02887366053527221\n",
      "84 0.023030780255794525 0.028134515011869372\n",
      "85 0.022472722455859184 0.02737435084413737\n",
      "86 0.02182539366185665 0.026699677297659218\n",
      "87 0.021195432171225548 0.025998974852263927\n",
      "88 0.020589562132954597 0.025346459819376468\n",
      "89 0.02006063051521778 0.02469469727259129\n",
      "90 0.019466068595647812 0.024073171432409435\n",
      "91 0.01895247772336006 0.02344019435076043\n",
      "92 0.018542926758527756 0.02286856410820037\n",
      "93 0.017974713817238808 0.022280193160381167\n",
      "94 0.01754470355808735 0.021735822182055563\n",
      "95 0.017084071412682533 0.021207510796189308\n",
      "96 0.016632340848445892 0.0206864665039815\n",
      "97 0.016231179237365723 0.020208486153464763\n",
      "98 0.01583770290017128 0.019744280971121044\n",
      "99 0.015517840161919594 0.019302912685647607\n",
      "100 0.015166687779128551 0.018840854938095435\n"
     ]
    }
   ],
   "source": [
    "#train the network\n",
    "\n",
    "for epoch in range(Epochs):\n",
    "    loss_avg = 0.0\n",
    "    N_elements = 0\n",
    "    for batch_idx, (X_batch, y_batch) in enumerate(train_loader):\n",
    "        # Forward pass: Compute predicted y by passing x to the model\n",
    "        y_pred = model(X_batch)\n",
    "\n",
    "        # Compute loss\n",
    "        loss = categorical_cross_entropy(y_pred, y_batch)\n",
    "\n",
    "        # Zero gradients, perform a backward pass, and update the weights.\n",
    "        optimizer.zero_grad()\n",
    "        loss.backward()\n",
    "        optimizer.step()\n",
    "        loss_avg += loss.item()*X_batch.size()[0]\n",
    "        N_elements += X_batch.size()[0]\n",
    "\n",
    "    # print loss after each epoch    \n",
    "    print(epoch+1, loss.item(), loss_avg/N_elements)\n"
   ]
  },
  {
   "cell_type": "code",
   "execution_count": 9,
   "metadata": {},
   "outputs": [
    {
     "name": "stdout",
     "output_type": "stream",
     "text": [
      "0.020735497776313838\n"
     ]
    }
   ],
   "source": [
    "#Predicting\n",
    "y_train_hat_Pytorch = model(torch_X_train.float()).detach().numpy()\n",
    "\n",
    "print(log_loss(y_train, y_train_hat_Pytorch))\n",
    "# print(categorical_cross_entropy(torch.from_numpy(y_train).float(), torch.from_numpy(y_train_hat_Pytorch)))"
   ]
  },
  {
   "cell_type": "code",
   "execution_count": 10,
   "metadata": {},
   "outputs": [
    {
     "name": "stdout",
     "output_type": "stream",
     "text": [
      "[0 0 0 0 0 1 0 0 0 0]\n",
      "[1 0 0 0 0 0 0 0 0 0]\n"
     ]
    }
   ],
   "source": [
    "print(y_train[0])\n",
    "print(y_train[1])"
   ]
  },
  {
   "cell_type": "code",
   "execution_count": 11,
   "metadata": {},
   "outputs": [
    {
     "name": "stdout",
     "output_type": "stream",
     "text": [
      "[2.1891752e-13 6.0890420e-14 1.8599314e-10 2.2093031e-04 1.9059933e-25\n",
      " 9.9977905e-01 2.4493364e-15 7.8256352e-13 7.8601859e-14 1.5986865e-13]\n",
      "[9.9999964e-01 8.2255425e-11 3.4687238e-07 7.4164890e-11 3.4500973e-16\n",
      " 7.4679520e-13 2.5321070e-08 2.9021292e-11 1.1283031e-13 4.7710031e-08]\n"
     ]
    }
   ],
   "source": [
    "print(y_train_hat_Pytorch[0])\n",
    "print(y_train_hat_Pytorch[1])"
   ]
  },
  {
   "cell_type": "code",
   "execution_count": 12,
   "metadata": {},
   "outputs": [
    {
     "name": "stdout",
     "output_type": "stream",
     "text": [
      "----------------------------------------------------------------\n",
      "        Layer (type)               Output Shape         Param #\n",
      "================================================================\n",
      "            Linear-1               [-1, 1, 100]          78,500\n",
      "            Linear-2               [-1, 1, 100]          10,100\n",
      "            Linear-3                [-1, 1, 10]           1,010\n",
      "================================================================\n",
      "Total params: 89,610\n",
      "Trainable params: 89,610\n",
      "Non-trainable params: 0\n",
      "----------------------------------------------------------------\n",
      "Input size (MB): 0.00\n",
      "Forward/backward pass size (MB): 0.00\n",
      "Params size (MB): 0.34\n",
      "Estimated Total Size (MB): 0.35\n",
      "----------------------------------------------------------------\n"
     ]
    }
   ],
   "source": [
    "#Show aprameters of the network\n",
    "\n",
    "summary(model, (1, 784))"
   ]
  },
  {
   "cell_type": "code",
   "execution_count": null,
   "metadata": {},
   "outputs": [],
   "source": []
  },
  {
   "cell_type": "code",
   "execution_count": null,
   "metadata": {},
   "outputs": [],
   "source": []
  },
  {
   "cell_type": "code",
   "execution_count": null,
   "metadata": {},
   "outputs": [],
   "source": []
  },
  {
   "cell_type": "code",
   "execution_count": null,
   "metadata": {},
   "outputs": [],
   "source": []
  }
 ],
 "metadata": {
  "kernelspec": {
   "display_name": "Python 3",
   "language": "python",
   "name": "python3"
  },
  "language_info": {
   "codemirror_mode": {
    "name": "ipython",
    "version": 3
   },
   "file_extension": ".py",
   "mimetype": "text/x-python",
   "name": "python",
   "nbconvert_exporter": "python",
   "pygments_lexer": "ipython3",
   "version": "3.6.8"
  }
 },
 "nbformat": 4,
 "nbformat_minor": 2
}
